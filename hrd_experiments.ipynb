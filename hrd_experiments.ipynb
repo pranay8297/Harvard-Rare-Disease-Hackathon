{
  "nbformat": 4,
  "nbformat_minor": 0,
  "metadata": {
    "colab": {
      "provenance": [],
      "collapsed_sections": [
        "1WhlRE9VMTTo",
        "5CdRCfOmMWSG",
        "OywRfxxeWNT1",
        "i_KD33-GwJ9T",
        "VyCKfHFG-UiF",
        "rVc-JYpR-agK"
      ],
      "mount_file_id": "1gB6idZ6vnQ_52FH7caEId1lfSyqac2jS",
      "authorship_tag": "ABX9TyMLSuKdD9qnhM3fg6aizsgd",
      "include_colab_link": true
    },
    "kernelspec": {
      "name": "python3",
      "display_name": "Python 3"
    },
    "language_info": {
      "name": "python"
    }
  },
  "cells": [
    {
      "cell_type": "markdown",
      "metadata": {
        "id": "view-in-github",
        "colab_type": "text"
      },
      "source": [
        "<a href=\"https://colab.research.google.com/github/pranay8297/Harvard-Rare-Disease-Hackathon/blob/main/hrd_experiments.ipynb\" target=\"_parent\"><img src=\"https://colab.research.google.com/assets/colab-badge.svg\" alt=\"Open In Colab\"/></a>"
      ]
    },
    {
      "cell_type": "markdown",
      "source": [
        "# Data Prep"
      ],
      "metadata": {
        "id": "1WhlRE9VMTTo"
      }
    },
    {
      "cell_type": "code",
      "source": [
        "!pip install pronto"
      ],
      "metadata": {
        "colab": {
          "base_uri": "https://localhost:8080/"
        },
        "id": "uFKKxow-GJVz",
        "outputId": "005cd84a-0f11-40b4-b924-561a1c0b6da8"
      },
      "execution_count": 3,
      "outputs": [
        {
          "output_type": "stream",
          "name": "stdout",
          "text": [
            "Collecting pronto\n",
            "  Downloading pronto-2.6.0-py3-none-any.whl.metadata (10 kB)\n",
            "Requirement already satisfied: chardet~=5.0 in /usr/local/lib/python3.11/dist-packages (from pronto) (5.2.0)\n",
            "Collecting fastobo~=0.13.0 (from pronto)\n",
            "  Downloading fastobo-0.13.0-cp311-cp311-manylinux_2_17_x86_64.manylinux2014_x86_64.whl.metadata (6.7 kB)\n",
            "Requirement already satisfied: networkx<4.0,>=2.3 in /usr/local/lib/python3.11/dist-packages (from pronto) (3.4.2)\n",
            "Requirement already satisfied: python-dateutil~=2.8 in /usr/local/lib/python3.11/dist-packages (from pronto) (2.8.2)\n",
            "Requirement already satisfied: six>=1.5 in /usr/local/lib/python3.11/dist-packages (from python-dateutil~=2.8->pronto) (1.17.0)\n",
            "Downloading pronto-2.6.0-py3-none-any.whl (83 kB)\n",
            "\u001b[2K   \u001b[90m━━━━━━━━━━━━━━━━━━━━━━━━━━━━━━━━━━━━━━━━\u001b[0m \u001b[32m83.2/83.2 kB\u001b[0m \u001b[31m2.2 MB/s\u001b[0m eta \u001b[36m0:00:00\u001b[0m\n",
            "\u001b[?25hDownloading fastobo-0.13.0-cp311-cp311-manylinux_2_17_x86_64.manylinux2014_x86_64.whl (2.2 MB)\n",
            "\u001b[2K   \u001b[90m━━━━━━━━━━━━━━━━━━━━━━━━━━━━━━━━━━━━━━━━\u001b[0m \u001b[32m2.2/2.2 MB\u001b[0m \u001b[31m29.5 MB/s\u001b[0m eta \u001b[36m0:00:00\u001b[0m\n",
            "\u001b[?25hInstalling collected packages: fastobo, pronto\n",
            "Successfully installed fastobo-0.13.0 pronto-2.6.0\n"
          ]
        }
      ]
    },
    {
      "cell_type": "code",
      "execution_count": 4,
      "metadata": {
        "id": "bqbL2A-DGAsx"
      },
      "outputs": [],
      "source": [
        "import math\n",
        "import pronto"
      ]
    },
    {
      "cell_type": "code",
      "source": [
        "pheno_ontology = pronto.Ontology('./hpo.obo')"
      ],
      "metadata": {
        "colab": {
          "base_uri": "https://localhost:8080/"
        },
        "id": "Z1F9MN1lGEu2",
        "outputId": "cdf5c64d-42cb-4ad4-ab8d-a0a68c2bfe45"
      },
      "execution_count": 3,
      "outputs": [
        {
          "output_type": "stream",
          "name": "stderr",
          "text": [
            "<ipython-input-3-445b7bd13fd2>:1: UnicodeWarning: unsound encoding, assuming ISO-8859-1 (73% confidence)\n",
            "  pheno_ontology = pronto.Ontology('./hpo.obo')\n"
          ]
        }
      ]
    },
    {
      "cell_type": "code",
      "source": [
        "hpo = pheno_ontology\n",
        "pheno = hpo.get_term('HP:0000059')"
      ],
      "metadata": {
        "id": "8wEnVgC9Gfj9"
      },
      "execution_count": 4,
      "outputs": []
    },
    {
      "cell_type": "code",
      "source": [
        "def get_ancestors_up_to_root(ontology, start_term, stop_term='HP:0000118'):\n",
        "    \"\"\"\n",
        "    :param ontology: pronto Ontology object (computed in function \"load_ontology\")\n",
        "    :param start_term: specific HPO term (e.g., 'HP:0000164')\n",
        "    :param stop_term: root term, known to be 'HP:0000118' (phenotypic abnormality)\n",
        "    :return: set of all parent terms up to the root term\n",
        "    \"\"\"\n",
        "\n",
        "    ancestors = set()\n",
        "    current_term = ontology[start_term]\n",
        "\n",
        "    for parent in current_term.superclasses():\n",
        "        if parent.id == current_term.id: # first item is always the term itself\n",
        "            continue\n",
        "        if parent.id == stop_term:\n",
        "            break\n",
        "        ancestors.add(parent.id)\n",
        "\n",
        "    return ancestors"
      ],
      "metadata": {
        "id": "in_kHmdrIBe5"
      },
      "execution_count": 5,
      "outputs": []
    },
    {
      "cell_type": "code",
      "source": [
        "def read_disease_annotations(hpo_disease_annotations):\n",
        "    \"\"\"\n",
        "    :param hpo_disease_annotations: full path to the tab-delimited \"phenotype.hpoa\" file downloaded from HPO\n",
        "    :return: dictionary from disease ID -> set of corresponding HPO terms AND dictionary from disease ID -> name\n",
        "    \"\"\"\n",
        "\n",
        "    disease_to_hpo = {}\n",
        "    disease_to_name = {}\n",
        "\n",
        "    ontology = pronto.Ontology('./hpo.obo')\n",
        "\n",
        "    with open(hpo_disease_annotations, 'r') as anno_handle:\n",
        "        header = None\n",
        "        for anno_line in anno_handle:\n",
        "\n",
        "            if anno_line.startswith('#'):\n",
        "                continue\n",
        "\n",
        "            if not header:\n",
        "                header = anno_line.strip().split('\\t')\n",
        "                continue\n",
        "\n",
        "            disease_id, disease_name, _, hpo_id = anno_line.split('\\t')[0:4]\n",
        "\n",
        "            if disease_id not in disease_to_hpo:  # create dictionary of disease -> set (HPO terms)\n",
        "                disease_to_hpo[disease_id] = set()\n",
        "                disease_to_name[disease_id] = disease_name\n",
        "\n",
        "            disease_to_hpo[disease_id].add(hpo_id)\n",
        "\n",
        "            # get all parents and add it to the same disease\n",
        "            parents = get_ancestors_up_to_root(ontology, hpo_id)\n",
        "            for parent in parents:\n",
        "                disease_to_hpo[disease_id].add(parent)\n",
        "\n",
        "    # storing it as a json file here\n",
        "    import json\n",
        "    new_d = {}\n",
        "    for k, v in disease_to_hpo.items():\n",
        "        new_d[k] = list(v)\n",
        "    with open('./disease_to_hpo.json', 'w') as fp:\n",
        "        json.dump(new_d, fp)\n",
        "\n",
        "    print(\"Number of diseases with annotations = \" + str(len(disease_to_hpo.keys())))\n",
        "    print(\"Average number terms/disease = \" + str(\n",
        "        sum([len(v) for v in disease_to_hpo.values()]) / len(disease_to_hpo.keys())))\n",
        "\n",
        "    return disease_to_hpo, disease_to_name"
      ],
      "metadata": {
        "id": "c6J5viE6HEnS"
      },
      "execution_count": 6,
      "outputs": []
    },
    {
      "cell_type": "code",
      "source": [
        "read_disease_annotations('/content/phenotype.hpoa')"
      ],
      "metadata": {
        "id": "SghyYOfaIciJ"
      },
      "execution_count": null,
      "outputs": []
    },
    {
      "cell_type": "code",
      "source": [
        "import json\n",
        "with open('/content/disease_to_hpo.json', 'r') as f:\n",
        "    data = json.load(f)"
      ],
      "metadata": {
        "id": "AiubBCsHOrpT"
      },
      "execution_count": 8,
      "outputs": []
    },
    {
      "cell_type": "code",
      "source": [
        "max_len = 0\n",
        "for i in data.values():\n",
        "    if len(i) > max_len:\n",
        "        max_len = len(i)\n",
        "print(max_len)"
      ],
      "metadata": {
        "colab": {
          "base_uri": "https://localhost:8080/"
        },
        "id": "izetW6sKPALA",
        "outputId": "e9febf8a-fd8e-4f21-fde5-fa6035def0c8"
      },
      "execution_count": 9,
      "outputs": [
        {
          "output_type": "stream",
          "name": "stdout",
          "text": [
            "602\n"
          ]
        }
      ]
    },
    {
      "cell_type": "markdown",
      "source": [
        "# Tokenizer, Dataset and DataLoader"
      ],
      "metadata": {
        "id": "5CdRCfOmMWSG"
      }
    },
    {
      "cell_type": "code",
      "source": [
        "#\n",
        "'''\n",
        "X - Phenotypes\n",
        "Y - Disease\n",
        "\n",
        "Approach - Sample random phenotypes from X (30 pct)\n",
        "Y - Disease\n",
        "\n",
        "Model - Transformer\n",
        "Sequential Data\n",
        "\n",
        "X - already a list of phenotypes\n",
        "Conver this X to Embeddings\n",
        "1. Add a cls token embedding at the start\n",
        "2. Pad them for the symptom length\n",
        "No positional encoding\n",
        "\n",
        "Model:\n",
        "\n",
        "Transformer\n",
        "1. Masked Attention Needs to be done and avoid all pad tokens\n",
        "2. Multi head Attention\n",
        "\n",
        "Loss Function: Cross Entropy Loss\n",
        "Optimizer: AdamW\n",
        "\n",
        "\n",
        "----\n",
        "\n",
        "Model Initialization: Kaiming Init - Or, lets experiment - With random variances, the key that final activation should have\n",
        "a standard normal distribution\n",
        "'''"
      ],
      "metadata": {
        "id": "0Pnsq53ZPkqv",
        "colab": {
          "base_uri": "https://localhost:8080/",
          "height": 140
        },
        "outputId": "c55c1ed1-7584-4841-a083-21674a9a8805"
      },
      "execution_count": 6,
      "outputs": [
        {
          "output_type": "execute_result",
          "data": {
            "text/plain": [
              "'\\nX - Phenotypes\\nY - Disease\\n\\nApproach - Sample random phenotypes from X (30 pct)\\nY - Disease\\n\\nModel - Transformer\\nSequential Data\\n\\nX - already a list of phenotypes\\nConver this X to Embeddings\\n1. Add a cls token embedding at the start\\n2. Pad them for the symptom length\\nNo positional encoding\\n\\nModel:\\n\\nTransformer\\n1. Masked Attention Needs to be done and avoid all pad tokens\\n2. Multi head Attention\\n\\nLoss Function: Cross Entropy Loss\\nOptimizer: AdamW\\n\\n\\n---- \\n\\nModel Initialization: Kaiming Init - Or, lets experiment - With random variances, the key that final activation should have \\na standard normal distribution\\n'"
            ],
            "application/vnd.google.colaboratory.intrinsic+json": {
              "type": "string"
            }
          },
          "metadata": {},
          "execution_count": 6
        }
      ]
    },
    {
      "cell_type": "code",
      "source": [
        "import torch\n",
        "import pickle\n",
        "import random\n",
        "import json\n",
        "import numpy as np\n",
        "\n",
        "from einops import rearrange\n",
        "from torch import nn\n",
        "from torch.nn import functional as F\n",
        "from torch.utils.data import Dataset, DataLoader\n",
        "from torch.optim import AdamW\n",
        "from torch.optim.lr_scheduler import OneCycleLR\n",
        "\n",
        "from matplotlib import pyplot as plt"
      ],
      "metadata": {
        "id": "b_FnX5F_BTzq"
      },
      "execution_count": 8,
      "outputs": []
    },
    {
      "cell_type": "code",
      "source": [
        "class Tokenizer():\n",
        "    def __init__(self, pheno_list, tokenizer_path = None, max_len = 256, save_path = None):\n",
        "\n",
        "        if tokenizer_path:\n",
        "            try:\n",
        "                with open(tokenizer_path, 'rb') as f:\n",
        "                    self = pickle.load(f)\n",
        "                    return\n",
        "            except:\n",
        "                print('TOKENIZER NOT FOUND, INITIALIZING NEW ONE')\n",
        "\n",
        "        self.key_value = {\n",
        "            'CLS_KEY': 0,\n",
        "            'PAD_KEY': 1,\n",
        "            'UNK': 2\n",
        "        }\n",
        "\n",
        "        self.max_len = max_len\n",
        "        self.phenotype_list = pheno_list\n",
        "        for idx, pheno in enumerate(pheno_list):\n",
        "            self.key_value[pheno] = idx + 3\n",
        "\n",
        "        self.value_key = {v: k for k, v in self.key_value.items()}\n",
        "        if save_path:\n",
        "            self.save_tokenizer(save_path)\n",
        "\n",
        "    def get_key(self, pheno):\n",
        "        try:\n",
        "            return self.key_value[pheno]\n",
        "        except:\n",
        "            return self.key_value['UNK']\n",
        "\n",
        "    def save_tokenizer(self, tokenizer_path):\n",
        "        print(f'SAVING TOKENIZER AT: {tokenizer_path}')\n",
        "        with open(tokenizer_path, 'wb') as f:\n",
        "            pickle.dump(self, f)\n",
        "\n",
        "    def _tokenize(self, pheno_list):\n",
        "        return [self.key_value[pheno] if pheno in self.key_value else self.key_value['UNK'] for pheno in pheno_list]\n",
        "\n",
        "    def pad(self, pheno_list):\n",
        "        pheno_list = ['CLS_KEY'] + pheno_list\n",
        "        delta = max(0, (self.max_len - len(pheno_list)))\n",
        "        if len(pheno_list) < self.max_len:\n",
        "            pheno_list += ['PAD_KEY'] * (self.max_len - len(pheno_list))\n",
        "        else:\n",
        "            pheno_list = pheno_list[:self.max_len]\n",
        "\n",
        "        assert len(pheno_list) == self.max_len\n",
        "        return pheno_list, delta\n",
        "\n",
        "    def tokenize(self, pheno_list):\n",
        "        # 2 things\n",
        "        # 1. Tokenized Pheno List\n",
        "        # 2. Pad Mask\n",
        "        padded_pheno_list, n_padded = self.pad(pheno_list)\n",
        "        tokenized_pheno_list = torch.tensor(self._tokenize(padded_pheno_list)).to(torch.long)\n",
        "        pad_mask = torch.tensor([1] * (self.max_len - n_padded) + [0] * n_padded).to(torch.long)\n",
        "\n",
        "        # Verification\n",
        "        assert len(tokenized_pheno_list) == self.max_len\n",
        "        assert len(pad_mask) == self.max_len\n",
        "\n",
        "        return tokenized_pheno_list, pad_mask\n",
        "\n",
        "    def reverse_tokenize(self, tokenized_pheno_list):\n",
        "        return [self.value_key[token] for token in tokenized_pheno_list]"
      ],
      "metadata": {
        "id": "wt9o2mSPC6-4"
      },
      "execution_count": 9,
      "outputs": []
    },
    {
      "cell_type": "code",
      "source": [
        "with open('/content/disease_to_hpo.json', 'r') as f:\n",
        "    data = json.load(f)\n",
        "\n",
        "values = []\n",
        "for i in data.values():\n",
        "    values.extend(i)\n",
        "pheno_list = list(set(values))"
      ],
      "metadata": {
        "id": "YT2mgvqxFN8f"
      },
      "execution_count": 19,
      "outputs": []
    },
    {
      "cell_type": "code",
      "source": [
        "tokenizer = Tokenizer(pheno_list, max_len = 256, save_path = '/content/tokenizer.pkl')\n",
        "# tokenizer = Tokenizer(pheno_list, tokenizer_path = '/content/tokenizer.pkl')"
      ],
      "metadata": {
        "colab": {
          "base_uri": "https://localhost:8080/"
        },
        "id": "deWMNAbuMi8N",
        "outputId": "4e0b220f-2104-4547-d1c7-22c948458362"
      },
      "execution_count": 23,
      "outputs": [
        {
          "output_type": "stream",
          "name": "stdout",
          "text": [
            "SAVING TOKENIZER AT: /content/tokenizer.pkl\n"
          ]
        }
      ]
    },
    {
      "cell_type": "code",
      "source": [
        "x = list(data.values())[0]\n",
        "len(x)"
      ],
      "metadata": {
        "colab": {
          "base_uri": "https://localhost:8080/"
        },
        "id": "VeR_86w9Ngb7",
        "outputId": "2f402a5e-36d4-4754-97c7-484db8b8ad37"
      },
      "execution_count": 24,
      "outputs": [
        {
          "output_type": "execute_result",
          "data": {
            "text/plain": [
              "60"
            ]
          },
          "metadata": {},
          "execution_count": 24
        }
      ]
    },
    {
      "cell_type": "code",
      "source": [
        "import random\n",
        "\n",
        "class DS(Dataset):\n",
        "    def __init__(self, data_dict, tokenizer, save_path = None):\n",
        "        self.data = data_dict\n",
        "\n",
        "        self.X = list(data_dict.values())\n",
        "        self.Y = list(data_dict.keys())\n",
        "        self.Y_values = {y: i for i, y in enumerate(self.Y)}\n",
        "        self.tokenizer = tokenizer\n",
        "\n",
        "        if save_path:\n",
        "            self.save_dataset(save_path)\n",
        "\n",
        "    def save_dataset(self, save_path):\n",
        "        print(f'SAVING DATASET AT: {save_path}')\n",
        "        with open(save_path, 'wb') as f:\n",
        "            pickle.dump(self, f)\n",
        "\n",
        "    def __len__(self):\n",
        "        return len(self.X)\n",
        "\n",
        "    def __getitem__(self, idx):\n",
        "        x = self.X[idx]\n",
        "        y = self.Y[idx]\n",
        "\n",
        "        if len(x) > self.tokenizer.max_len:\n",
        "            # sample tokenizer.max_len number of items out of this list randomly\n",
        "            sampled_indices = random.sample(range(len(x)), self.tokenizer.max_len)\n",
        "            x = [x[i] for i in sampled_indices]\n",
        "\n",
        "        elif len(x) < self.tokenizer.max_len:\n",
        "            # sample somewhere between 30% to 70% of x randomly\n",
        "            sample_percentage = random.uniform(0.2, 0.99)\n",
        "            sample_size = max(1, int(len(x) * sample_percentage))\n",
        "            sampled_indices = random.sample(range(len(x)), sample_size)\n",
        "            x = [x[i] for i in sampled_indices]\n",
        "\n",
        "        tokens, mask = self.tokenizer.tokenize(x)\n",
        "        return (tokens, mask), self.Y_values[y]"
      ],
      "metadata": {
        "id": "cTUqDhEfOelJ"
      },
      "execution_count": 10,
      "outputs": []
    },
    {
      "cell_type": "code",
      "source": [
        "dataset = DS(data, tokenizer)\n",
        "# with open('/content/dataset.pkl', 'rb') as f:\n",
        "#     dataset = pickle.load(f)\n",
        "dataloader = DataLoader(dataset, batch_size = 64, shuffle = True)"
      ],
      "metadata": {
        "id": "7k7zRDhfQzCh"
      },
      "execution_count": 27,
      "outputs": []
    },
    {
      "cell_type": "code",
      "source": [
        "# YAY Dataset is working and verified\n",
        "(tokens, mask), disease = dataset[0]"
      ],
      "metadata": {
        "id": "I-5KSXKNTSYo"
      },
      "execution_count": 28,
      "outputs": []
    },
    {
      "cell_type": "code",
      "source": [
        "# Saving the Dataset\n",
        "with open('/content/dataset.pkl', 'wb') as f:\n",
        "    pickle.dump(dataset, f)"
      ],
      "metadata": {
        "id": "1m3yghk_uatA"
      },
      "execution_count": 23,
      "outputs": []
    },
    {
      "cell_type": "code",
      "source": [
        "iter_data = iter(dataloader)\n",
        "x, y = next(iter_data)"
      ],
      "metadata": {
        "id": "MyGrCPxlT7w_"
      },
      "execution_count": 78,
      "outputs": []
    },
    {
      "cell_type": "code",
      "source": [
        "x[0].shape, x[1].shape, y.shape"
      ],
      "metadata": {
        "colab": {
          "base_uri": "https://localhost:8080/"
        },
        "id": "IMpWh9dlVQnj",
        "outputId": "7ee45167-ae8b-46d6-cac5-4b4b919a2db2"
      },
      "execution_count": 104,
      "outputs": [
        {
          "output_type": "execute_result",
          "data": {
            "text/plain": [
              "(torch.Size([64, 256]), torch.Size([64, 256]), torch.Size([64]))"
            ]
          },
          "metadata": {},
          "execution_count": 104
        }
      ]
    },
    {
      "cell_type": "code",
      "source": [
        "len(tokenizer.key_value)"
      ],
      "metadata": {
        "colab": {
          "base_uri": "https://localhost:8080/"
        },
        "id": "_6ruvL7_k1W5",
        "outputId": "46e87163-e5b8-4751-e8b8-4de243eb25d8"
      },
      "execution_count": 89,
      "outputs": [
        {
          "output_type": "execute_result",
          "data": {
            "text/plain": [
              "12508"
            ]
          },
          "metadata": {},
          "execution_count": 89
        }
      ]
    },
    {
      "cell_type": "markdown",
      "source": [
        "# Lets Write the Transformer MANNNNN!!!!!!"
      ],
      "metadata": {
        "id": "OywRfxxeWNT1"
      }
    },
    {
      "cell_type": "code",
      "source": [
        "def init_weights(module):\n",
        "    if isinstance(module, (nn.Linear, nn.Embedding)):\n",
        "        # Initialize linear and embedding weights with Kaiming initialization\n",
        "        nn.init.kaiming_normal_(module.weight, mode='fan_in', nonlinearity='relu')\n",
        "        if hasattr(module, 'bias') and module.bias is not None:\n",
        "            nn.init.zeros_(module.bias)\n",
        "    elif isinstance(module, (nn.LayerNorm, nn.GroupNorm)):\n",
        "        # Initialize normalization layer parameters\n",
        "        if module.weight is not None:\n",
        "            nn.init.ones_(module.weight)\n",
        "        if module.bias is not None:\n",
        "            nn.init.zeros_(module.bias)\n",
        "\n",
        "class MultiHeadAttention(nn.Module): # Verified\n",
        "\n",
        "    def __init__(self, d_model, nhead):\n",
        "\n",
        "        super().__init__()\n",
        "        assert d_model % nhead == 0\n",
        "\n",
        "        self.kqv = nn.Linear(d_model, 3*d_model)\n",
        "        self.proj = nn.Linear(d_model, d_model)\n",
        "        self.nhead = nhead\n",
        "\n",
        "    def forward(self, x, attention_mask):\n",
        "\n",
        "        # x -> (b, s, e) -> (b s, h, e/h)\n",
        "        kqv = self.kqv(x) # (b, s, 3*d_model)\n",
        "        k, q, v = torch.chunk(kqv, 3, dim = -1) # (3, b, s, d_model)\n",
        "\n",
        "        k = rearrange(k, 'b s (h e) -> b h s e', h = self.nhead)\n",
        "        q = rearrange(q, 'b s (h e) -> b h s e', h = self.nhead)\n",
        "        v = rearrange(v, 'b s (h e) -> b h s e', h = self.nhead)\n",
        "\n",
        "        # Attention claculation - # TODO: make is_casual true in case of finetuning - Very important\n",
        "        y = F.scaled_dot_product_attention(q, k, v, attn_mask = attention_mask[:, None, None, :], is_causal = False) # flash attention\n",
        "        y = rearrange(y, 'b h s e -> b s (h e)', h = self.nhead)\n",
        "\n",
        "        return self.proj(y)\n",
        "\n",
        "class MLP(nn.Module):\n",
        "    def __init__(self, d_model):\n",
        "        super(MLP, self).__init__()\n",
        "        self.layer = nn.Sequential(\n",
        "            nn.Linear(d_model, 4 * d_model),\n",
        "            nn.GELU(approximate = 'tanh'),\n",
        "            nn.Linear(4 * d_model, d_model)\n",
        "        )\n",
        "\n",
        "    def forward(self, x):\n",
        "        return self.layer(x)\n",
        "\n",
        "class EncoderLayer(nn.Module):\n",
        "    def __init__(self, d_model, nhead):\n",
        "        # Self Attn\n",
        "        # MLP\n",
        "        super(EncoderLayer, self).__init__()\n",
        "        self.self_attn = MultiHeadAttention(d_model, nhead)\n",
        "        self.mlp = MLP(d_model)\n",
        "\n",
        "        self.norm1 = nn.LayerNorm(d_model)\n",
        "        self.norm2 = nn.LayerNorm(d_model)\n",
        "\n",
        "    def forward(self, x, mask):\n",
        "        attn = self.self_attn(x, mask)\n",
        "        x = self.norm1(x + attn)\n",
        "        mlp_out = self.mlp(x)\n",
        "        x = self.norm2(x + mlp_out)\n",
        "        return x\n",
        "\n",
        "class Net(nn.Module):\n",
        "    def __init__(self, vocab_size, emb_dim = 512, n_classes = 12687, n_layers = 8, n_heads = 16):\n",
        "\n",
        "        super(Net, self).__init__()\n",
        "\n",
        "        self.n_classes = n_classes\n",
        "        self.n_layers = n_layers\n",
        "        self.n_heads = n_heads\n",
        "\n",
        "        self.embedding = nn.Embedding(vocab_size, emb_dim)\n",
        "        self.norm = nn.LayerNorm(emb_dim)\n",
        "        self.transformers = nn.ModuleList([EncoderLayer(d_model = emb_dim, nhead = n_heads) for _ in range(n_layers)])\n",
        "        self.classifier = nn.Linear(emb_dim, n_classes)\n",
        "\n",
        "    def forward(self, x, mask):\n",
        "        # breakpoint()\n",
        "        x = self.embedding(x) # (b, s, e)\n",
        "        x = self.norm(x) # (b, s, e)\n",
        "        mask = mask.bool()\n",
        "        for transformer in self.transformers:\n",
        "            x = transformer(x, mask)\n",
        "\n",
        "        x = x[:, 0, :].squeeze() # (b, s, e) -> (b, e)\n",
        "        x = self.classifier(x) # (b, e) -> (b, num_classes)\n",
        "        return x"
      ],
      "metadata": {
        "id": "rhl98a07VU_c"
      },
      "execution_count": 13,
      "outputs": []
    },
    {
      "cell_type": "code",
      "source": [
        "model = Net(len(tokenizer.key_value), n_layers = 8)\n",
        "model = model.apply(init_weights)"
      ],
      "metadata": {
        "id": "QXFtlOaZXR20"
      },
      "execution_count": 26,
      "outputs": []
    },
    {
      "cell_type": "code",
      "source": [
        "tokens, mask = x[0], x[1]\n",
        "logits = model(tokens, mask)"
      ],
      "metadata": {
        "id": "7nPnfAxmmUB5"
      },
      "execution_count": 131,
      "outputs": []
    },
    {
      "cell_type": "code",
      "source": [
        "y.shape, y.dtype, logits.shape"
      ],
      "metadata": {
        "colab": {
          "base_uri": "https://localhost:8080/"
        },
        "id": "QRXAe3YprcdY",
        "outputId": "96d4566d-4832-41b1-c53a-661d44d18673"
      },
      "execution_count": 142,
      "outputs": [
        {
          "output_type": "execute_result",
          "data": {
            "text/plain": [
              "(torch.Size([64]), torch.int64, torch.Size([64, 12687]))"
            ]
          },
          "metadata": {},
          "execution_count": 142
        }
      ]
    },
    {
      "cell_type": "code",
      "source": [
        "\n",
        "loss_fn = nn.CrossEntropyLoss()\n",
        "opt = AdamW(model.parameters(), lr = max_lr, weight_decay = 1e-02)\n",
        "\n",
        "for i in range(10):\n",
        "    opt.zero_grad()\n",
        "    logits = model(tokens, mask)\n",
        "    loss = loss_fn(logits, y)\n",
        "    loss.backward()\n",
        "    opt.step()\n",
        "    print(loss.item())"
      ],
      "metadata": {
        "colab": {
          "base_uri": "https://localhost:8080/"
        },
        "id": "TMV39Zbtrpxa",
        "outputId": "53912bb7-b06d-4b60-ea2e-e5b4fba08401"
      },
      "execution_count": 150,
      "outputs": [
        {
          "output_type": "stream",
          "name": "stdout",
          "text": [
            "10.484833717346191\n",
            "8.209488868713379\n",
            "6.239413738250732\n",
            "4.530508518218994\n",
            "3.043102264404297\n",
            "1.8216582536697388\n",
            "0.9548807144165039\n",
            "0.435703307390213\n",
            "0.1810034066438675\n",
            "0.07764700055122375\n"
          ]
        }
      ]
    },
    {
      "cell_type": "code",
      "source": [
        "loss"
      ],
      "metadata": {
        "colab": {
          "base_uri": "https://localhost:8080/"
        },
        "id": "MtZUL7knrrYJ",
        "outputId": "d43e0d7d-75c0-40bf-ee36-b23d7c83efa4"
      },
      "execution_count": 144,
      "outputs": [
        {
          "output_type": "execute_result",
          "data": {
            "text/plain": [
              "tensor(9.7035, grad_fn=<NllLossBackward0>)"
            ]
          },
          "metadata": {},
          "execution_count": 144
        }
      ]
    },
    {
      "cell_type": "code",
      "source": [
        "len(dataloader)"
      ],
      "metadata": {
        "colab": {
          "base_uri": "https://localhost:8080/"
        },
        "id": "Z99_114Bv7FZ",
        "outputId": "9bf26c1b-d8a3-41f0-ee75-eed30d5fc381"
      },
      "execution_count": 28,
      "outputs": [
        {
          "output_type": "execute_result",
          "data": {
            "text/plain": [
              "199"
            ]
          },
          "metadata": {},
          "execution_count": 28
        }
      ]
    },
    {
      "cell_type": "markdown",
      "source": [
        "# Training the initial model"
      ],
      "metadata": {
        "id": "i_KD33-GwJ9T"
      }
    },
    {
      "cell_type": "code",
      "source": [
        "model = None\n",
        "del model\n",
        "import gc\n",
        "gc.collect()\n",
        "torch.cuda.empty_cache()"
      ],
      "metadata": {
        "id": "5qA2klLlwTRl"
      },
      "execution_count": 32,
      "outputs": []
    },
    {
      "cell_type": "code",
      "source": [
        "import numpy as np\n",
        "\n",
        "epochs = 100\n",
        "\n",
        "dataloader = DataLoader(dataset, batch_size = 192, shuffle = True)\n",
        "device = torch.device('cuda' if torch.cuda.is_available() else 'cpu')\n",
        "\n",
        "model = Net(len(tokenizer.key_value), n_layers = 6)\n",
        "model = model.apply(init_weights)\n",
        "model = model.to(device)\n",
        "\n",
        "max_lr = 5e-04\n",
        "loss_fn = nn.CrossEntropyLoss()\n",
        "\n",
        "opt = AdamW(model.parameters(), lr = max_lr, weight_decay = 1e-02)\n",
        "lr_scheduler = torch.optim.lr_scheduler.OneCycleLR(opt,\n",
        "                                                   max_lr,\n",
        "                                                   epochs=epochs,\n",
        "                                                   steps_per_epoch=len(dataloader),\n",
        "                                                   pct_start=0.1,\n",
        "                                                   anneal_strategy='cos',\n",
        "                                                   cycle_momentum=True,\n",
        "                                                   base_momentum=0.85,\n",
        "                                                   max_momentum=0.95,\n",
        "                                                   div_factor=100.0,\n",
        "                                                   final_div_factor=1000,\n",
        "                                                   last_epoch=-1)\n",
        "\n",
        "# variances = np.linspace(0.05, 0.15, epochs)\n",
        "train_losses = []\n",
        "for epoch in range(epochs):\n",
        "    train_iter = iter(dataloader)\n",
        "    for it, (x, y) in enumerate(train_iter):\n",
        "\n",
        "        tokens, mask = x[0].to(device), x[1].to(device)\n",
        "        y = y.to(torch.long).to(device)\n",
        "\n",
        "        logits = model(tokens, mask)\n",
        "        loss = loss_fn(logits, y)\n",
        "\n",
        "        train_losses.append(loss.item())\n",
        "\n",
        "        opt.zero_grad()\n",
        "        loss.backward()\n",
        "        opt.step()\n",
        "        lr_scheduler.step()\n",
        "\n",
        "    print(f\"Epoch: {epoch} | Train Loss: {np.mean(train_losses[-len(dataloader):]):.4f}\")\n",
        "    if epoch % 5 == 0: # do checkpointing\n",
        "        # PLS FINISH THE CODE\n",
        "        checkpoint = {\n",
        "            'epoch': epoch,\n",
        "            'model_state_dict': model.state_dict(),\n",
        "            'optimizer_state_dict': opt.state_dict(),\n",
        "            'scheduler_state_dict': lr_scheduler.state_dict(),\n",
        "            'loss': np.mean(train_losses[-len(dataloader):])\n",
        "        }\n",
        "        torch.save(checkpoint, f'/content/drive/MyDrive/hrd_hack/model_checkpoint_epoch_{epoch}.pt')\n",
        "        print(f\"Checkpoint saved at epoch {epoch}\")\n",
        ""
      ],
      "metadata": {
        "colab": {
          "base_uri": "https://localhost:8080/"
        },
        "id": "O4HVgSEumWYu",
        "outputId": "4d10aca4-bca0-4cbf-8f80-b0351f2b8294"
      },
      "execution_count": 33,
      "outputs": [
        {
          "output_type": "stream",
          "name": "stdout",
          "text": [
            "Epoch: 0 | Train Loss: 10.4448\n",
            "Checkpoint saved at epoch 0\n",
            "Epoch: 1 | Train Loss: 10.2200\n",
            "Epoch: 2 | Train Loss: 10.0366\n",
            "Epoch: 3 | Train Loss: 9.9041\n",
            "Epoch: 4 | Train Loss: 9.8188\n",
            "Epoch: 5 | Train Loss: 9.7992\n",
            "Checkpoint saved at epoch 5\n",
            "Epoch: 6 | Train Loss: 9.7700\n",
            "Epoch: 7 | Train Loss: 9.6116\n",
            "Epoch: 8 | Train Loss: 9.2823\n",
            "Epoch: 9 | Train Loss: 8.8428\n",
            "Epoch: 10 | Train Loss: 8.3100\n",
            "Checkpoint saved at epoch 10\n",
            "Epoch: 11 | Train Loss: 7.7741\n",
            "Epoch: 12 | Train Loss: 7.2526\n",
            "Epoch: 13 | Train Loss: 6.8192\n",
            "Epoch: 14 | Train Loss: 6.3889\n",
            "Epoch: 15 | Train Loss: 6.0309\n",
            "Checkpoint saved at epoch 15\n",
            "Epoch: 16 | Train Loss: 5.6587\n",
            "Epoch: 17 | Train Loss: 5.3335\n",
            "Epoch: 18 | Train Loss: 5.0220\n",
            "Epoch: 19 | Train Loss: 4.7063\n",
            "Epoch: 20 | Train Loss: 4.4632\n",
            "Checkpoint saved at epoch 20\n",
            "Epoch: 21 | Train Loss: 4.1345\n",
            "Epoch: 22 | Train Loss: 3.8826\n",
            "Epoch: 23 | Train Loss: 3.6099\n",
            "Epoch: 24 | Train Loss: 3.3966\n",
            "Epoch: 25 | Train Loss: 3.1438\n",
            "Checkpoint saved at epoch 25\n",
            "Epoch: 26 | Train Loss: 2.9137\n",
            "Epoch: 27 | Train Loss: 2.7332\n",
            "Epoch: 28 | Train Loss: 2.5555\n",
            "Epoch: 29 | Train Loss: 2.3658\n",
            "Epoch: 30 | Train Loss: 2.2922\n",
            "Checkpoint saved at epoch 30\n",
            "Epoch: 31 | Train Loss: 2.0537\n",
            "Epoch: 32 | Train Loss: 1.9238\n",
            "Epoch: 33 | Train Loss: 1.7541\n",
            "Epoch: 34 | Train Loss: 1.6957\n",
            "Epoch: 35 | Train Loss: 1.6450\n",
            "Checkpoint saved at epoch 35\n",
            "Epoch: 36 | Train Loss: 1.5376\n",
            "Epoch: 37 | Train Loss: 1.5124\n",
            "Epoch: 38 | Train Loss: 1.4016\n",
            "Epoch: 39 | Train Loss: 1.3133\n",
            "Epoch: 40 | Train Loss: 1.2822\n",
            "Checkpoint saved at epoch 40\n",
            "Epoch: 41 | Train Loss: 1.2355\n",
            "Epoch: 42 | Train Loss: 1.1831\n",
            "Epoch: 43 | Train Loss: 1.1383\n",
            "Epoch: 44 | Train Loss: 1.0628\n",
            "Epoch: 45 | Train Loss: 1.0330\n",
            "Checkpoint saved at epoch 45\n",
            "Epoch: 46 | Train Loss: 1.0335\n",
            "Epoch: 47 | Train Loss: 1.0328\n",
            "Epoch: 48 | Train Loss: 0.9533\n",
            "Epoch: 49 | Train Loss: 0.9157\n",
            "Epoch: 50 | Train Loss: 0.9038\n",
            "Checkpoint saved at epoch 50\n",
            "Epoch: 51 | Train Loss: 0.8384\n",
            "Epoch: 52 | Train Loss: 0.8440\n",
            "Epoch: 53 | Train Loss: 0.8279\n",
            "Epoch: 54 | Train Loss: 0.7758\n",
            "Epoch: 55 | Train Loss: 0.7840\n",
            "Checkpoint saved at epoch 55\n",
            "Epoch: 56 | Train Loss: 0.7814\n",
            "Epoch: 57 | Train Loss: 0.7425\n",
            "Epoch: 58 | Train Loss: 0.7052\n",
            "Epoch: 59 | Train Loss: 0.7150\n",
            "Epoch: 60 | Train Loss: 0.6839\n",
            "Checkpoint saved at epoch 60\n",
            "Epoch: 61 | Train Loss: 0.6980\n",
            "Epoch: 62 | Train Loss: 0.6757\n",
            "Epoch: 63 | Train Loss: 0.6401\n",
            "Epoch: 64 | Train Loss: 0.6202\n",
            "Epoch: 65 | Train Loss: 0.6228\n",
            "Checkpoint saved at epoch 65\n",
            "Epoch: 66 | Train Loss: 0.5843\n",
            "Epoch: 67 | Train Loss: 0.5750\n",
            "Epoch: 68 | Train Loss: 0.5554\n",
            "Epoch: 69 | Train Loss: 0.5470\n",
            "Epoch: 70 | Train Loss: 0.5675\n",
            "Checkpoint saved at epoch 70\n",
            "Epoch: 71 | Train Loss: 0.5518\n",
            "Epoch: 72 | Train Loss: 0.5407\n",
            "Epoch: 73 | Train Loss: 0.5112\n",
            "Epoch: 74 | Train Loss: 0.5262\n",
            "Epoch: 75 | Train Loss: 0.5140\n",
            "Checkpoint saved at epoch 75\n",
            "Epoch: 76 | Train Loss: 0.4942\n",
            "Epoch: 77 | Train Loss: 0.4728\n",
            "Epoch: 78 | Train Loss: 0.4635\n",
            "Epoch: 79 | Train Loss: 0.4712\n",
            "Epoch: 80 | Train Loss: 0.4451\n",
            "Checkpoint saved at epoch 80\n",
            "Epoch: 81 | Train Loss: 0.4505\n",
            "Epoch: 82 | Train Loss: 0.4266\n",
            "Epoch: 83 | Train Loss: 0.4405\n",
            "Epoch: 84 | Train Loss: 0.4438\n",
            "Epoch: 85 | Train Loss: 0.4252\n",
            "Checkpoint saved at epoch 85\n",
            "Epoch: 86 | Train Loss: 0.4334\n",
            "Epoch: 87 | Train Loss: 0.4183\n",
            "Epoch: 88 | Train Loss: 0.4246\n",
            "Epoch: 89 | Train Loss: 0.4134\n",
            "Epoch: 90 | Train Loss: 0.4140\n",
            "Checkpoint saved at epoch 90\n",
            "Epoch: 91 | Train Loss: 0.4106\n",
            "Epoch: 92 | Train Loss: 0.4125\n",
            "Epoch: 93 | Train Loss: 0.3938\n",
            "Epoch: 94 | Train Loss: 0.4088\n",
            "Epoch: 95 | Train Loss: 0.4120\n",
            "Checkpoint saved at epoch 95\n",
            "Epoch: 96 | Train Loss: 0.3976\n",
            "Epoch: 97 | Train Loss: 0.3959\n",
            "Epoch: 98 | Train Loss: 0.3932\n",
            "Epoch: 99 | Train Loss: 0.3892\n"
          ]
        }
      ]
    },
    {
      "cell_type": "code",
      "source": [
        "checkpoint = {\n",
        "            'epoch': epoch,\n",
        "            'model_state_dict': model.state_dict(),\n",
        "            'optimizer_state_dict': opt.state_dict(),\n",
        "            'scheduler_state_dict': lr_scheduler.state_dict(),\n",
        "            'loss': np.mean(train_losses[-len(dataloader):])\n",
        "        }\n",
        "torch.save(checkpoint, f'/content/drive/MyDrive/hrd_hack/model_checkpoint_epoch_{epoch}.pt')\n",
        "print(f\"Checkpoint saved at epoch {epoch}\")"
      ],
      "metadata": {
        "colab": {
          "base_uri": "https://localhost:8080/"
        },
        "id": "_jEntpFMouHM",
        "outputId": "5beb12ef-c654-4e83-c10c-c20e8120634a"
      },
      "execution_count": 35,
      "outputs": [
        {
          "output_type": "stream",
          "name": "stdout",
          "text": [
            "Checkpoint saved at epoch 99\n"
          ]
        }
      ]
    },
    {
      "cell_type": "code",
      "source": [
        "dataset[2]"
      ],
      "metadata": {
        "colab": {
          "base_uri": "https://localhost:8080/"
        },
        "id": "51lCSfylnswb",
        "outputId": "d2d0d6a9-6aa0-40ab-947e-10b8c942885f"
      },
      "execution_count": 37,
      "outputs": [
        {
          "output_type": "execute_result",
          "data": {
            "text/plain": [
              "((tensor([    0,  1288,  8984, 11900,  9595,  8750,  5646,  5271,  9969, 10099,\n",
              "           7065,  8349, 11069,  3479,  3452,  7142,  6165, 11255,  8534,  7776,\n",
              "           6539,  1662,  7641,  7987,  4184, 11609,  2916,  4622,  9258,     1,\n",
              "              1,     1,     1,     1,     1,     1,     1,     1,     1,     1,\n",
              "              1,     1,     1,     1,     1,     1,     1,     1,     1,     1,\n",
              "              1,     1,     1,     1,     1,     1,     1,     1,     1,     1,\n",
              "              1,     1,     1,     1,     1,     1,     1,     1,     1,     1,\n",
              "              1,     1,     1,     1,     1,     1,     1,     1,     1,     1,\n",
              "              1,     1,     1,     1,     1,     1,     1,     1,     1,     1,\n",
              "              1,     1,     1,     1,     1,     1,     1,     1,     1,     1,\n",
              "              1,     1,     1,     1,     1,     1,     1,     1,     1,     1,\n",
              "              1,     1,     1,     1,     1,     1,     1,     1,     1,     1,\n",
              "              1,     1,     1,     1,     1,     1,     1,     1,     1,     1,\n",
              "              1,     1,     1,     1,     1,     1,     1,     1,     1,     1,\n",
              "              1,     1,     1,     1,     1,     1,     1,     1,     1,     1,\n",
              "              1,     1,     1,     1,     1,     1,     1,     1,     1,     1,\n",
              "              1,     1,     1,     1,     1,     1,     1,     1,     1,     1,\n",
              "              1,     1,     1,     1,     1,     1,     1,     1,     1,     1,\n",
              "              1,     1,     1,     1,     1,     1,     1,     1,     1,     1,\n",
              "              1,     1,     1,     1,     1,     1,     1,     1,     1,     1,\n",
              "              1,     1,     1,     1,     1,     1,     1,     1,     1,     1,\n",
              "              1,     1,     1,     1,     1,     1,     1,     1,     1,     1,\n",
              "              1,     1,     1,     1,     1,     1,     1,     1,     1,     1,\n",
              "              1,     1,     1,     1,     1,     1,     1,     1,     1,     1,\n",
              "              1,     1,     1,     1,     1,     1,     1,     1,     1,     1,\n",
              "              1,     1,     1,     1,     1,     1]),\n",
              "  tensor([1, 1, 1, 1, 1, 1, 1, 1, 1, 1, 1, 1, 1, 1, 1, 1, 1, 1, 1, 1, 1, 1, 1, 1,\n",
              "          1, 1, 1, 1, 1, 0, 0, 0, 0, 0, 0, 0, 0, 0, 0, 0, 0, 0, 0, 0, 0, 0, 0, 0,\n",
              "          0, 0, 0, 0, 0, 0, 0, 0, 0, 0, 0, 0, 0, 0, 0, 0, 0, 0, 0, 0, 0, 0, 0, 0,\n",
              "          0, 0, 0, 0, 0, 0, 0, 0, 0, 0, 0, 0, 0, 0, 0, 0, 0, 0, 0, 0, 0, 0, 0, 0,\n",
              "          0, 0, 0, 0, 0, 0, 0, 0, 0, 0, 0, 0, 0, 0, 0, 0, 0, 0, 0, 0, 0, 0, 0, 0,\n",
              "          0, 0, 0, 0, 0, 0, 0, 0, 0, 0, 0, 0, 0, 0, 0, 0, 0, 0, 0, 0, 0, 0, 0, 0,\n",
              "          0, 0, 0, 0, 0, 0, 0, 0, 0, 0, 0, 0, 0, 0, 0, 0, 0, 0, 0, 0, 0, 0, 0, 0,\n",
              "          0, 0, 0, 0, 0, 0, 0, 0, 0, 0, 0, 0, 0, 0, 0, 0, 0, 0, 0, 0, 0, 0, 0, 0,\n",
              "          0, 0, 0, 0, 0, 0, 0, 0, 0, 0, 0, 0, 0, 0, 0, 0, 0, 0, 0, 0, 0, 0, 0, 0,\n",
              "          0, 0, 0, 0, 0, 0, 0, 0, 0, 0, 0, 0, 0, 0, 0, 0, 0, 0, 0, 0, 0, 0, 0, 0,\n",
              "          0, 0, 0, 0, 0, 0, 0, 0, 0, 0, 0, 0, 0, 0, 0, 0])),\n",
              " 2)"
            ]
          },
          "metadata": {},
          "execution_count": 37
        }
      ]
    },
    {
      "cell_type": "code",
      "source": [
        "with open('./drive/MyDrive/hrd_hack/ds_test.pkl', 'wb') as f:\n",
        "    pickle.dump(dataset, f)"
      ],
      "metadata": {
        "id": "EmjcsHCPmXRs"
      },
      "execution_count": 38,
      "outputs": []
    },
    {
      "cell_type": "code",
      "source": [
        "tokenizer.max_len"
      ],
      "metadata": {
        "colab": {
          "base_uri": "https://localhost:8080/"
        },
        "id": "Zva4DEZTn8UC",
        "outputId": "d03679ef-7212-421e-bc2f-7d9e2c3bf731"
      },
      "execution_count": 42,
      "outputs": [
        {
          "output_type": "execute_result",
          "data": {
            "text/plain": [
              "256"
            ]
          },
          "metadata": {},
          "execution_count": 42
        }
      ]
    },
    {
      "cell_type": "code",
      "source": [
        "with open('./drive/MyDrive/hrd_hack/tokenizer_test.pkl', 'wb') as f:\n",
        "    pickle.dump(tokenizer, f)"
      ],
      "metadata": {
        "id": "fZRABg2Yn5To"
      },
      "execution_count": 43,
      "outputs": []
    },
    {
      "cell_type": "code",
      "source": [
        "with open('./drive/MyDrive/hrd_hack/ds_test.pkl', 'rb') as f:\n",
        "    dataset_test = pickle.load(f)"
      ],
      "metadata": {
        "id": "HVmK9opwnwc5"
      },
      "execution_count": 39,
      "outputs": []
    },
    {
      "cell_type": "code",
      "source": [
        "dataset_test[2]"
      ],
      "metadata": {
        "colab": {
          "base_uri": "https://localhost:8080/"
        },
        "id": "YRkvVLVSnzsi",
        "outputId": "67238989-2340-438a-d565-b17f4bfe1429"
      },
      "execution_count": 40,
      "outputs": [
        {
          "output_type": "execute_result",
          "data": {
            "text/plain": [
              "((tensor([    0,  7776, 11609,  5271,  6539,  8984,  8647, 10099,  2916,  7142,\n",
              "          11255,  5646,  8750,  1662,  9967,  9969,  1288, 11900,  6165,  8349,\n",
              "           7065,  8534,  3452,  7641,  9595,  9258,  7987,  4184, 11069,     1,\n",
              "              1,     1,     1,     1,     1,     1,     1,     1,     1,     1,\n",
              "              1,     1,     1,     1,     1,     1,     1,     1,     1,     1,\n",
              "              1,     1,     1,     1,     1,     1,     1,     1,     1,     1,\n",
              "              1,     1,     1,     1,     1,     1,     1,     1,     1,     1,\n",
              "              1,     1,     1,     1,     1,     1,     1,     1,     1,     1,\n",
              "              1,     1,     1,     1,     1,     1,     1,     1,     1,     1,\n",
              "              1,     1,     1,     1,     1,     1,     1,     1,     1,     1,\n",
              "              1,     1,     1,     1,     1,     1,     1,     1,     1,     1,\n",
              "              1,     1,     1,     1,     1,     1,     1,     1,     1,     1,\n",
              "              1,     1,     1,     1,     1,     1,     1,     1,     1,     1,\n",
              "              1,     1,     1,     1,     1,     1,     1,     1,     1,     1,\n",
              "              1,     1,     1,     1,     1,     1,     1,     1,     1,     1,\n",
              "              1,     1,     1,     1,     1,     1,     1,     1,     1,     1,\n",
              "              1,     1,     1,     1,     1,     1,     1,     1,     1,     1,\n",
              "              1,     1,     1,     1,     1,     1,     1,     1,     1,     1,\n",
              "              1,     1,     1,     1,     1,     1,     1,     1,     1,     1,\n",
              "              1,     1,     1,     1,     1,     1,     1,     1,     1,     1,\n",
              "              1,     1,     1,     1,     1,     1,     1,     1,     1,     1,\n",
              "              1,     1,     1,     1,     1,     1,     1,     1,     1,     1,\n",
              "              1,     1,     1,     1,     1,     1,     1,     1,     1,     1,\n",
              "              1,     1,     1,     1,     1,     1,     1,     1,     1,     1,\n",
              "              1,     1,     1,     1,     1,     1,     1,     1,     1,     1,\n",
              "              1,     1,     1,     1,     1,     1]),\n",
              "  tensor([1, 1, 1, 1, 1, 1, 1, 1, 1, 1, 1, 1, 1, 1, 1, 1, 1, 1, 1, 1, 1, 1, 1, 1,\n",
              "          1, 1, 1, 1, 1, 0, 0, 0, 0, 0, 0, 0, 0, 0, 0, 0, 0, 0, 0, 0, 0, 0, 0, 0,\n",
              "          0, 0, 0, 0, 0, 0, 0, 0, 0, 0, 0, 0, 0, 0, 0, 0, 0, 0, 0, 0, 0, 0, 0, 0,\n",
              "          0, 0, 0, 0, 0, 0, 0, 0, 0, 0, 0, 0, 0, 0, 0, 0, 0, 0, 0, 0, 0, 0, 0, 0,\n",
              "          0, 0, 0, 0, 0, 0, 0, 0, 0, 0, 0, 0, 0, 0, 0, 0, 0, 0, 0, 0, 0, 0, 0, 0,\n",
              "          0, 0, 0, 0, 0, 0, 0, 0, 0, 0, 0, 0, 0, 0, 0, 0, 0, 0, 0, 0, 0, 0, 0, 0,\n",
              "          0, 0, 0, 0, 0, 0, 0, 0, 0, 0, 0, 0, 0, 0, 0, 0, 0, 0, 0, 0, 0, 0, 0, 0,\n",
              "          0, 0, 0, 0, 0, 0, 0, 0, 0, 0, 0, 0, 0, 0, 0, 0, 0, 0, 0, 0, 0, 0, 0, 0,\n",
              "          0, 0, 0, 0, 0, 0, 0, 0, 0, 0, 0, 0, 0, 0, 0, 0, 0, 0, 0, 0, 0, 0, 0, 0,\n",
              "          0, 0, 0, 0, 0, 0, 0, 0, 0, 0, 0, 0, 0, 0, 0, 0, 0, 0, 0, 0, 0, 0, 0, 0,\n",
              "          0, 0, 0, 0, 0, 0, 0, 0, 0, 0, 0, 0, 0, 0, 0, 0])),\n",
              " 2)"
            ]
          },
          "metadata": {},
          "execution_count": 40
        }
      ]
    },
    {
      "cell_type": "code",
      "source": [
        "with open('./drive/MyDrive/hrd_hack/tokenizer_test.pkl', 'rb') as f:\n",
        "    tokenizer_test = pickle.load(f)\n",
        "tokenizer_test.max_len"
      ],
      "metadata": {
        "colab": {
          "base_uri": "https://localhost:8080/"
        },
        "id": "MNS3p6kkn1Fo",
        "outputId": "7cffcae9-8ed7-47f0-f908-5c9bad3b65fd"
      },
      "execution_count": 45,
      "outputs": [
        {
          "output_type": "execute_result",
          "data": {
            "text/plain": [
              "256"
            ]
          },
          "metadata": {},
          "execution_count": 45
        }
      ]
    },
    {
      "cell_type": "markdown",
      "source": [
        "# Lets Create DISEASE Embeddings"
      ],
      "metadata": {
        "id": "VyCKfHFG-UiF"
      }
    },
    {
      "cell_type": "code",
      "source": [
        "# step 1 calculate IC scores for each of the phenotype\n",
        "# for each disease - create a hpo_id_token array and also create a IC score array\n",
        "# Multiply, add and divide by sum of IC Scores\n",
        "# May be Normalize it and visualize"
      ],
      "metadata": {
        "id": "iwfLqgMi-ZuM"
      },
      "execution_count": null,
      "outputs": []
    },
    {
      "cell_type": "code",
      "source": [
        "with open('./drive/MyDrive/hrd_hack/tokenizer_test.pkl', 'rb') as f:\n",
        "    tokenizer_test = pickle.load(f)\n",
        "tokenizer_test.max_len\n"
      ],
      "metadata": {
        "colab": {
          "base_uri": "https://localhost:8080/"
        },
        "id": "zh3VuHcvCOP5",
        "outputId": "d1274054-e420-44ff-9cba-027d0bc6f94a"
      },
      "execution_count": 9,
      "outputs": [
        {
          "output_type": "execute_result",
          "data": {
            "text/plain": [
              "256"
            ]
          },
          "metadata": {},
          "execution_count": 9
        }
      ]
    },
    {
      "cell_type": "code",
      "source": [
        "with open('./drive/MyDrive/hrd_hack/ds_test.pkl', 'rb') as f:\n",
        "    dataset_test = pickle.load(f)"
      ],
      "metadata": {
        "id": "rgcXX8JfCOWh"
      },
      "execution_count": 15,
      "outputs": []
    },
    {
      "cell_type": "code",
      "source": [
        "# calculate the frequencies\n",
        "# calculate the -log of frequencies"
      ],
      "metadata": {
        "id": "zmManInnCOf4"
      },
      "execution_count": null,
      "outputs": []
    },
    {
      "cell_type": "code",
      "source": [
        "with open('/content/disease_to_hpo_with_parents.json', 'r') as f:\n",
        "    disease_to_hpo = json.load(f)"
      ],
      "metadata": {
        "id": "N-i_4sHWCOjj"
      },
      "execution_count": 19,
      "outputs": []
    },
    {
      "cell_type": "code",
      "source": [
        "math.log"
      ],
      "metadata": {
        "colab": {
          "base_uri": "https://localhost:8080/"
        },
        "id": "73Spi6i_NZHN",
        "outputId": "63f7b225-3033-4f6f-ebf5-edf954bbc7b5"
      },
      "execution_count": 24,
      "outputs": [
        {
          "output_type": "execute_result",
          "data": {
            "text/plain": [
              "<function math.log>"
            ]
          },
          "metadata": {},
          "execution_count": 24
        }
      ]
    },
    {
      "cell_type": "code",
      "source": [
        "total_diseases = len(disease_to_hpo)\n",
        "symptoms = []\n",
        "for k, v in disease_to_hpo.items():\n",
        "    symptoms += v\n",
        "\n",
        "from collections import Counter\n",
        "num_repetetions = Counter(symptoms)\n",
        "\n",
        "ic_scores = {}\n",
        "for k, v in num_repetetions.items():\n",
        "    ic_scores[k] = -math.log(v / total_diseases)"
      ],
      "metadata": {
        "id": "BaUThJXXMcWm"
      },
      "execution_count": 25,
      "outputs": []
    },
    {
      "cell_type": "code",
      "source": [
        "# Now token_id to ic socre\n",
        "\n",
        "token_id_to_ic = {}\n",
        "for k, v in tokenizer_test.key_value.items():\n",
        "    if k in ic_scores:\n",
        "        token_id_to_ic[v] = ic_scores[k]\n",
        "    else:\n",
        "        token_id_to_ic[v] = 0.0"
      ],
      "metadata": {
        "id": "9R2ALqhKN0K6"
      },
      "execution_count": 31,
      "outputs": []
    },
    {
      "cell_type": "code",
      "source": [
        "model_dict = torch.load('./drive/MyDrive/hrd_hack/model_checkpoint_epoch_99.pt', map_location = 'cpu')"
      ],
      "metadata": {
        "colab": {
          "base_uri": "https://localhost:8080/"
        },
        "id": "J0BDmg4aPumq",
        "outputId": "893ad13e-03ee-4386-acde-facc8469db11"
      },
      "execution_count": 33,
      "outputs": [
        {
          "output_type": "stream",
          "name": "stderr",
          "text": [
            "<ipython-input-33-2686d48a641f>:1: FutureWarning: You are using `torch.load` with `weights_only=False` (the current default value), which uses the default pickle module implicitly. It is possible to construct malicious pickle data which will execute arbitrary code during unpickling (See https://github.com/pytorch/pytorch/blob/main/SECURITY.md#untrusted-models for more details). In a future release, the default value for `weights_only` will be flipped to `True`. This limits the functions that could be executed during unpickling. Arbitrary objects will no longer be allowed to be loaded via this mode unless they are explicitly allowlisted by the user via `torch.serialization.add_safe_globals`. We recommend you start setting `weights_only=True` for any use case where you don't have full control of the loaded file. Please open an issue on GitHub for any issues related to this experimental feature.\n",
            "  model_dict = torch.load('./drive/MyDrive/hrd_hack/model_checkpoint_epoch_99.pt', map_location = 'cpu')\n"
          ]
        }
      ]
    },
    {
      "cell_type": "code",
      "source": [
        "model_dict.keys()\n",
        "tokenizer = tokenizer_test\n",
        "model = Net(len(tokenizer.key_value), n_layers = 6)\n",
        "# model  = model.apply(init_weights)\n",
        "model.load_state_dict(model_dict['model_state_dict'])"
      ],
      "metadata": {
        "colab": {
          "base_uri": "https://localhost:8080/"
        },
        "id": "n_zUT83FP3ox",
        "outputId": "0cfc1f1f-40f7-4eb0-d1bc-2f4c37c9d544"
      },
      "execution_count": 39,
      "outputs": [
        {
          "output_type": "execute_result",
          "data": {
            "text/plain": [
              "<All keys matched successfully>"
            ]
          },
          "metadata": {},
          "execution_count": 39
        }
      ]
    },
    {
      "cell_type": "code",
      "source": [
        "embs = model.embedding.weight.detach().cpu()\n",
        "disease = 'OMIM:619340'\n",
        "hpo = disease_to_hpo[disease]\n",
        "hpo_tokens = torch.tensor(tokenizer._tokenize(hpo)).to(torch.long)\n",
        "ic_scores = torch.tensor([token_id_to_ic[int(token)] for token in hpo_tokens])\n",
        "dis_embs = embs[hpo_tokens]\n",
        "\n",
        "weighted_embs = dis_embs * ic_scores.unsqueeze(1)\n",
        "final_disease_emb = weighted_embs.sum(0)\n"
      ],
      "metadata": {
        "id": "KTugJ7TYTK-4"
      },
      "execution_count": 55,
      "outputs": []
    },
    {
      "cell_type": "code",
      "source": [
        "hpo_tokens.shape, ic_scores.shape, embs[hpo_tokens].shape, weighted_embs.shape"
      ],
      "metadata": {
        "colab": {
          "base_uri": "https://localhost:8080/"
        },
        "id": "tM9PhJW0Tx2a",
        "outputId": "7efffc32-cda1-4194-d8cf-d0c265f5ae6c"
      },
      "execution_count": 57,
      "outputs": [
        {
          "output_type": "execute_result",
          "data": {
            "text/plain": [
              "(torch.Size([60]),\n",
              " torch.Size([60]),\n",
              " torch.Size([60, 512]),\n",
              " torch.Size([60, 512]))"
            ]
          },
          "metadata": {},
          "execution_count": 57
        }
      ]
    },
    {
      "cell_type": "code",
      "source": [
        "final_disease_emb = weighted_embs.sum(0)/ic_scores.sum()\n",
        "final_disease_emb.mean(), final_disease_emb.std()"
      ],
      "metadata": {
        "colab": {
          "base_uri": "https://localhost:8080/"
        },
        "id": "o2q6sJQfUv6R",
        "outputId": "0a3f46f3-558d-46d7-a6d2-07d88a994bd5"
      },
      "execution_count": 61,
      "outputs": [
        {
          "output_type": "execute_result",
          "data": {
            "text/plain": [
              "(tensor(0.0005), tensor(0.0131))"
            ]
          },
          "metadata": {},
          "execution_count": 61
        }
      ]
    },
    {
      "cell_type": "code",
      "source": [
        "embs.mean(), embs.std()"
      ],
      "metadata": {
        "colab": {
          "base_uri": "https://localhost:8080/"
        },
        "id": "2QDMmV1tU-_1",
        "outputId": "ae34db59-f760-43c9-9030-f996d7ee1485"
      },
      "execution_count": 63,
      "outputs": [
        {
          "output_type": "execute_result",
          "data": {
            "text/plain": [
              "(tensor(1.2793e-05), tensor(0.0668))"
            ]
          },
          "metadata": {},
          "execution_count": 63
        }
      ]
    },
    {
      "cell_type": "code",
      "source": [
        "from tqdm import tqdm\n",
        "\n",
        "final_disease_embs = []\n",
        "embs = model.embedding.weight.detach().cpu()\n",
        "for disease, did in tqdm(dataset_test.Y_values.items()):\n",
        "    hpo = disease_to_hpo[disease]\n",
        "    hpo_tokens = torch.tensor(tokenizer._tokenize(hpo)).to(torch.long)\n",
        "    ic_scores = torch.tensor([token_id_to_ic[int(token)] for token in hpo_tokens])\n",
        "    dis_embs = embs[hpo_tokens]\n",
        "\n",
        "    weighted_embs = dis_embs * ic_scores.unsqueeze(1)\n",
        "    final_disease_emb = weighted_embs.sum(0)\n",
        "    final_disease_embs.append(final_disease_emb)"
      ],
      "metadata": {
        "colab": {
          "base_uri": "https://localhost:8080/"
        },
        "id": "xfmLrCfIRih3",
        "outputId": "c6c6f29c-c6e5-48ce-d19b-2b56b66ace87"
      },
      "execution_count": 64,
      "outputs": [
        {
          "output_type": "stream",
          "name": "stderr",
          "text": [
            "100%|██████████| 12687/12687 [00:07<00:00, 1709.28it/s]\n"
          ]
        }
      ]
    },
    {
      "cell_type": "code",
      "source": [
        "disease_embs = torch.stack(final_disease_embs)\n",
        "disease_embs = (disease_embs - disease_embs.mean(0))/disease_embs.std(0)"
      ],
      "metadata": {
        "id": "Kx1DAPekXJq3"
      },
      "execution_count": 68,
      "outputs": []
    },
    {
      "cell_type": "code",
      "source": [
        "disease_embs.mean(), disease_embs.std(), disease_embs.shape"
      ],
      "metadata": {
        "colab": {
          "base_uri": "https://localhost:8080/"
        },
        "id": "Xk1rzEOKXX8o",
        "outputId": "38d9bcaa-b289-4a31-acf2-90e245f94b4d"
      },
      "execution_count": 69,
      "outputs": [
        {
          "output_type": "execute_result",
          "data": {
            "text/plain": [
              "(tensor(2.6867e-11), tensor(1.0000), torch.Size([12687, 512]))"
            ]
          },
          "metadata": {},
          "execution_count": 69
        }
      ]
    },
    {
      "cell_type": "code",
      "source": [
        "torch.save(disease_embs, './drive/MyDrive/hrd_hack/disease_embs.pt')"
      ],
      "metadata": {
        "id": "uYIt9ADVX92w"
      },
      "execution_count": 70,
      "outputs": []
    },
    {
      "cell_type": "code",
      "source": [
        "def l2_distance(emb1, emb2):\n",
        "    assert emb1.shape == emb2.shape\n",
        "    diff_squared = (emb1 - emb2)**2\n",
        "    return torch.sqrt(diff_squared.sum())\n",
        "\n",
        "print(torch.dist(disease_embs[0], disease_embs[1], p = 2))\n",
        "print(l2_distance(disease_embs[0], disease_embs[1]))"
      ],
      "metadata": {
        "colab": {
          "base_uri": "https://localhost:8080/"
        },
        "id": "jx29NDdXYSAm",
        "outputId": "707d908d-2967-44d8-9ec5-fc6bd27a799c"
      },
      "execution_count": 83,
      "outputs": [
        {
          "output_type": "stream",
          "name": "stdout",
          "text": [
            "tensor(18.4131)\n",
            "tensor(18.4131)\n"
          ]
        }
      ]
    },
    {
      "cell_type": "code",
      "source": [
        "# Calculate inter embedding distances and then plot a histogram\n",
        "distances = []\n",
        "def l2_distance(emb1, emb2):\n",
        "    assert emb1.shape == emb2.shape\n",
        "    diff_squared = (emb1 - emb2)**2\n",
        "    return torch.sqrt(diff_squared.sum())\n",
        "\n",
        "for i in tqdm(range(disease_embs.shape[0])):\n",
        "    for j in range(i+1, disease_embs.shape[0]):\n",
        "        distances.append(torch.dist(disease_embs[i], disease_embs[j], p = 2).item())"
      ],
      "metadata": {
        "colab": {
          "base_uri": "https://localhost:8080/"
        },
        "id": "jmpHfVsVYGwn",
        "outputId": "00c57d2b-69df-4238-c3dc-ed6ebb4b96a6"
      },
      "execution_count": 84,
      "outputs": [
        {
          "output_type": "stream",
          "name": "stderr",
          "text": [
            "100%|██████████| 12687/12687 [22:45<00:00,  9.29it/s] \n"
          ]
        }
      ]
    },
    {
      "cell_type": "code",
      "source": [
        "len(distances)"
      ],
      "metadata": {
        "colab": {
          "base_uri": "https://localhost:8080/"
        },
        "id": "z-1FUTYwgtxP",
        "outputId": "844ff69e-0200-4e47-e13d-4bb9b42f2447"
      },
      "execution_count": 87,
      "outputs": [
        {
          "output_type": "execute_result",
          "data": {
            "text/plain": [
              "80473641"
            ]
          },
          "metadata": {},
          "execution_count": 87
        }
      ]
    },
    {
      "cell_type": "code",
      "source": [
        "import numpy as np\n",
        "np.mean(distances), np.std(distances), min(distances), max(distances)"
      ],
      "metadata": {
        "colab": {
          "base_uri": "https://localhost:8080/"
        },
        "id": "06gueh-vYG9Q",
        "outputId": "15a2162a-5370-4eff-edbf-8433b16efd25"
      },
      "execution_count": 86,
      "outputs": [
        {
          "output_type": "execute_result",
          "data": {
            "text/plain": [
              "30.073520401521733"
            ]
          },
          "metadata": {},
          "execution_count": 86
        }
      ]
    },
    {
      "cell_type": "code",
      "source": [
        "import pickle\n",
        "with open('./drive/MyDrive/hrd_hack/distances.pkl', 'wb') as f:\n",
        "    pickle.dump(distances, f)"
      ],
      "metadata": {
        "id": "Gt-5v_kmhH0s"
      },
      "execution_count": 90,
      "outputs": []
    },
    {
      "cell_type": "code",
      "source": [
        "with open('./drive/MyDrive/hrd_hack/distances.pkl', 'rb') as f:\n",
        "    distances = pickle.load(f)"
      ],
      "metadata": {
        "id": "9Eje7S8qhocW"
      },
      "execution_count": 2,
      "outputs": []
    },
    {
      "cell_type": "code",
      "source": [
        "distances = np.array(distances)"
      ],
      "metadata": {
        "id": "cdownwimiX7p"
      },
      "execution_count": 3,
      "outputs": []
    },
    {
      "cell_type": "code",
      "source": [
        "from matplotlib.pyplot import hist\n",
        "hist(distances, bins = 100)"
      ],
      "metadata": {
        "colab": {
          "base_uri": "https://localhost:8080/",
          "height": 1000
        },
        "id": "xiexk-f2g1FX",
        "outputId": "e5330a95-f82c-4d9c-92f6-6117737217f9"
      },
      "execution_count": 5,
      "outputs": [
        {
          "output_type": "execute_result",
          "data": {
            "text/plain": [
              "(array([2.792000e+03, 7.246000e+03, 2.016900e+04, 5.180600e+04,\n",
              "        1.209060e+05, 2.378580e+05, 3.817160e+05, 5.778580e+05,\n",
              "        8.187070e+05, 1.105850e+06, 1.424407e+06, 1.791895e+06,\n",
              "        2.149236e+06, 2.483662e+06, 2.861260e+06, 3.205447e+06,\n",
              "        3.490353e+06, 3.721430e+06, 3.899931e+06, 3.994004e+06,\n",
              "        3.998273e+06, 3.971849e+06, 3.875165e+06, 3.745792e+06,\n",
              "        3.540908e+06, 3.325943e+06, 3.090640e+06, 2.816880e+06,\n",
              "        2.580256e+06, 2.349676e+06, 2.111918e+06, 1.891955e+06,\n",
              "        1.669309e+06, 1.456938e+06, 1.270733e+06, 1.089673e+06,\n",
              "        9.306780e+05, 7.850970e+05, 6.473860e+05, 5.484830e+05,\n",
              "        4.672380e+05, 3.917680e+05, 3.178940e+05, 2.508240e+05,\n",
              "        2.017340e+05, 1.684290e+05, 1.327610e+05, 1.022770e+05,\n",
              "        8.364100e+04, 6.756500e+04, 5.465000e+04, 4.295800e+04,\n",
              "        3.340300e+04, 2.766200e+04, 2.166100e+04, 1.533900e+04,\n",
              "        1.097700e+04, 7.803000e+03, 5.377000e+03, 3.882000e+03,\n",
              "        2.768000e+03, 1.885000e+03, 1.363000e+03, 9.450000e+02,\n",
              "        7.060000e+02, 4.700000e+02, 3.150000e+02, 2.390000e+02,\n",
              "        1.930000e+02, 1.810000e+02, 1.290000e+02, 1.060000e+02,\n",
              "        1.560000e+02, 2.220000e+02, 2.870000e+02, 4.860000e+02,\n",
              "        7.430000e+02, 1.447000e+03, 2.316000e+03, 1.816000e+03,\n",
              "        1.411000e+03, 1.086000e+03, 7.750000e+02, 5.670000e+02,\n",
              "        3.770000e+02, 2.290000e+02, 1.880000e+02, 1.240000e+02,\n",
              "        6.500000e+01, 4.200000e+01, 3.000000e+01, 1.400000e+01,\n",
              "        1.300000e+01, 5.000000e+00, 6.000000e+00, 1.000000e+00,\n",
              "        1.000000e+00, 4.000000e+00, 0.000000e+00, 2.000000e+00]),\n",
              " array([  0.        ,   1.32224747,   2.64449493,   3.9667424 ,\n",
              "          5.28898987,   6.61123734,   7.9334848 ,   9.25573227,\n",
              "         10.57797974,  11.9002272 ,  13.22247467,  14.54472214,\n",
              "         15.8669696 ,  17.18921707,  18.51146454,  19.83371201,\n",
              "         21.15595947,  22.47820694,  23.80045441,  25.12270187,\n",
              "         26.44494934,  27.76719681,  29.08944427,  30.41169174,\n",
              "         31.73393921,  33.05618668,  34.37843414,  35.70068161,\n",
              "         37.02292908,  38.34517654,  39.66742401,  40.98967148,\n",
              "         42.31191895,  43.63416641,  44.95641388,  46.27866135,\n",
              "         47.60090881,  48.92315628,  50.24540375,  51.56765121,\n",
              "         52.88989868,  54.21214615,  55.53439362,  56.85664108,\n",
              "         58.17888855,  59.50113602,  60.82338348,  62.14563095,\n",
              "         63.46787842,  64.79012589,  66.11237335,  67.43462082,\n",
              "         68.75686829,  70.07911575,  71.40136322,  72.72361069,\n",
              "         74.04585815,  75.36810562,  76.69035309,  78.01260056,\n",
              "         79.33484802,  80.65709549,  81.97934296,  83.30159042,\n",
              "         84.62383789,  85.94608536,  87.26833282,  88.59058029,\n",
              "         89.91282776,  91.23507523,  92.55732269,  93.87957016,\n",
              "         95.20181763,  96.52406509,  97.84631256,  99.16856003,\n",
              "        100.4908075 , 101.81305496, 103.13530243, 104.4575499 ,\n",
              "        105.77979736, 107.10204483, 108.4242923 , 109.74653976,\n",
              "        111.06878723, 112.3910347 , 113.71328217, 115.03552963,\n",
              "        116.3577771 , 117.68002457, 119.00227203, 120.3245195 ,\n",
              "        121.64676697, 122.96901443, 124.2912619 , 125.61350937,\n",
              "        126.93575684, 128.2580043 , 129.58025177, 130.90249924,\n",
              "        132.2247467 ]),\n",
              " <BarContainer object of 100 artists>)"
            ]
          },
          "metadata": {},
          "execution_count": 5
        },
        {
          "output_type": "display_data",
          "data": {
            "text/plain": [
              "<Figure size 640x480 with 1 Axes>"
            ],
            "image/png": "[encoded data removed]"
          },
          "metadata": {}
        }
      ]
    },
    {
      "cell_type": "code",
      "source": [
        "sorted(distances)"
      ],
      "metadata": {
        "id": "yUObhpcjion7"
      },
      "execution_count": null,
      "outputs": []
    },
    {
      "cell_type": "markdown",
      "source": [
        "# Write a reward function"
      ],
      "metadata": {
        "id": "rVc-JYpR-agK"
      }
    },
    {
      "cell_type": "code",
      "source": [
        "import json\n",
        "with open('/content/disease_to_hpo.json', 'r') as f:\n",
        "    data = json.load(f)"
      ],
      "metadata": {
        "id": "FlUrOqIhA7NH"
      },
      "execution_count": 10,
      "outputs": []
    },
    {
      "cell_type": "code",
      "source": [
        "lens = []\n",
        "for k, v in data.items():\n",
        "    lens.append(len(v))\n",
        "np.mean(lens)"
      ],
      "metadata": {
        "colab": {
          "base_uri": "https://localhost:8080/"
        },
        "id": "RU5fBEZlA8fM",
        "outputId": "9601fa47-c140-4250-ba45-25aa13295e27"
      },
      "execution_count": 11,
      "outputs": [
        {
          "output_type": "execute_result",
          "data": {
            "text/plain": [
              "21.369196815638055"
            ]
          },
          "metadata": {},
          "execution_count": 11
        }
      ]
    },
    {
      "cell_type": "code",
      "source": [
        "plt.hist(lens, bins = 100)"
      ],
      "metadata": {
        "colab": {
          "base_uri": "https://localhost:8080/",
          "height": 951
        },
        "id": "ONzB-to8A8Z_",
        "outputId": "05025b2c-022d-4b6f-ff06-ced8c184b59f"
      },
      "execution_count": 13,
      "outputs": [
        {
          "output_type": "execute_result",
          "data": {
            "text/plain": [
              "(array([1.137e+03, 1.042e+03, 9.610e+02, 8.510e+02, 7.310e+02, 6.620e+02,\n",
              "        7.050e+02, 6.160e+02, 5.670e+02, 5.410e+02, 7.030e+02, 4.680e+02,\n",
              "        4.190e+02, 3.800e+02, 3.030e+02, 2.610e+02, 2.530e+02, 2.090e+02,\n",
              "        2.100e+02, 1.940e+02, 2.190e+02, 1.290e+02, 1.270e+02, 1.160e+02,\n",
              "        1.010e+02, 8.600e+01, 5.200e+01, 6.500e+01, 5.700e+01, 5.400e+01,\n",
              "        7.600e+01, 4.800e+01, 3.300e+01, 4.100e+01, 2.300e+01, 2.000e+01,\n",
              "        2.300e+01, 2.100e+01, 2.300e+01, 1.200e+01, 2.000e+01, 9.000e+00,\n",
              "        1.300e+01, 1.500e+01, 8.000e+00, 5.000e+00, 4.000e+00, 6.000e+00,\n",
              "        1.000e+00, 5.000e+00, 1.300e+01, 2.000e+00, 2.000e+00, 5.000e+00,\n",
              "        2.000e+00, 6.000e+00, 4.000e+00, 1.000e+00, 5.000e+00, 1.000e+00,\n",
              "        5.000e+00, 1.000e+00, 1.000e+00, 1.000e+00, 0.000e+00, 1.000e+00,\n",
              "        2.000e+00, 1.000e+00, 0.000e+00, 1.000e+00, 0.000e+00, 0.000e+00,\n",
              "        1.000e+00, 0.000e+00, 0.000e+00, 0.000e+00, 0.000e+00, 0.000e+00,\n",
              "        0.000e+00, 0.000e+00, 0.000e+00, 0.000e+00, 0.000e+00, 0.000e+00,\n",
              "        0.000e+00, 0.000e+00, 1.000e+00, 0.000e+00, 1.000e+00, 1.000e+00,\n",
              "        1.000e+00, 0.000e+00, 0.000e+00, 0.000e+00, 0.000e+00, 2.000e+00,\n",
              "        0.000e+00, 0.000e+00, 0.000e+00, 1.000e+00]),\n",
              " array([  1. ,   3.1,   5.2,   7.3,   9.4,  11.5,  13.6,  15.7,  17.8,\n",
              "         19.9,  22. ,  24.1,  26.2,  28.3,  30.4,  32.5,  34.6,  36.7,\n",
              "         38.8,  40.9,  43. ,  45.1,  47.2,  49.3,  51.4,  53.5,  55.6,\n",
              "         57.7,  59.8,  61.9,  64. ,  66.1,  68.2,  70.3,  72.4,  74.5,\n",
              "         76.6,  78.7,  80.8,  82.9,  85. ,  87.1,  89.2,  91.3,  93.4,\n",
              "         95.5,  97.6,  99.7, 101.8, 103.9, 106. , 108.1, 110.2, 112.3,\n",
              "        114.4, 116.5, 118.6, 120.7, 122.8, 124.9, 127. , 129.1, 131.2,\n",
              "        133.3, 135.4, 137.5, 139.6, 141.7, 143.8, 145.9, 148. , 150.1,\n",
              "        152.2, 154.3, 156.4, 158.5, 160.6, 162.7, 164.8, 166.9, 169. ,\n",
              "        171.1, 173.2, 175.3, 177.4, 179.5, 181.6, 183.7, 185.8, 187.9,\n",
              "        190. , 192.1, 194.2, 196.3, 198.4, 200.5, 202.6, 204.7, 206.8,\n",
              "        208.9, 211. ]),\n",
              " <BarContainer object of 100 artists>)"
            ]
          },
          "metadata": {},
          "execution_count": 13
        },
        {
          "output_type": "display_data",
          "data": {
            "text/plain": [
              "<Figure size 640x480 with 1 Axes>"
            ],
            "image/png": "[encoded data removed]"
          },
          "metadata": {}
        }
      ]
    },
    {
      "cell_type": "code",
      "source": [
        "# len(lens)//2\n",
        "sorted(lens)[len(lens)//2]"
      ],
      "metadata": {
        "colab": {
          "base_uri": "https://localhost:8080/"
        },
        "id": "YDXJ4XmjA8W9",
        "outputId": "1a000fbb-9ef6-4b0d-cf1c-d5c983201c10"
      },
      "execution_count": 17,
      "outputs": [
        {
          "output_type": "execute_result",
          "data": {
            "text/plain": [
              "16"
            ]
          },
          "metadata": {},
          "execution_count": 17
        }
      ]
    },
    {
      "cell_type": "code",
      "source": [
        "class RewardFn():\n",
        "    '''\n",
        "     -alpha(t) * l2_distance\n",
        "\n",
        "    where alpha(t) = α_base + α_scale × (t / t_max)\n",
        "    '''\n",
        "    def __init__(self, max_steps = 22, threshold = 0.5):\n",
        "        self.max_steps = max_steps\n",
        "        self.alpha_base = 0.01\n",
        "        self.alpha_scale = 1.\n",
        "        self.threshold = threshold\n",
        "\n",
        "\n",
        "    def calculate_reward(emb_hat, emb, t):\n",
        "        distance = torch.dist(emb_hat, emb, p = 2)\n",
        "\n",
        "        done = distance < self.threshold\n",
        "        alpha = self.alpha_base + self.alpha_scale * (t / self.max_steps)\n",
        "        reward = -alpha * distance\n",
        "        return reward, done"
      ],
      "metadata": {
        "id": "Pa7pm2aRDRKr"
      },
      "execution_count": 21,
      "outputs": []
    },
    {
      "cell_type": "code",
      "source": [
        "max_steps = 22\n",
        "alpha_base = 0.01\n",
        "alpha_scale = 1.\n",
        "\n",
        "phs = []\n",
        "for t in range(max_steps):\n",
        "    alpha = alpha_base + alpha_scale * (t / max_steps)\n",
        "    phs.append(alpha)\n",
        "\n",
        "plt.plot(phs)"
      ],
      "metadata": {
        "colab": {
          "base_uri": "https://localhost:8080/",
          "height": 448
        },
        "id": "4q-_0s9iDRIA",
        "outputId": "cfe5915a-74cd-4709-c850-8292bd230544"
      },
      "execution_count": 27,
      "outputs": [
        {
          "output_type": "execute_result",
          "data": {
            "text/plain": [
              "[<matplotlib.lines.Line2D at 0x7fd5a7c92b10>]"
            ]
          },
          "metadata": {},
          "execution_count": 27
        },
        {
          "output_type": "display_data",
          "data": {
            "text/plain": [
              "<Figure size 640x480 with 1 Axes>"
            ],
            "image/png": "[encoded data removed]"
          },
          "metadata": {}
        }
      ]
    },
    {
      "cell_type": "markdown",
      "source": [
        "# Implement a POC on 10 to 20 Diseases"
      ],
      "metadata": {
        "id": "-O1TGZwd-q-n"
      }
    },
    {
      "cell_type": "code",
      "source": [
        "import torch\n",
        "import pickle\n",
        "import random\n",
        "import json\n",
        "import numpy as np\n",
        "\n",
        "from einops import rearrange\n",
        "from torch import nn\n",
        "from torch.nn import functional as F\n",
        "from torch.utils.data import Dataset, DataLoader\n",
        "from torch.optim import AdamW\n",
        "from torch.optim.lr_scheduler import OneCycleLR\n",
        "\n",
        "from matplotlib import pyplot as plt"
      ],
      "metadata": {
        "id": "SMclvOaCvecK"
      },
      "execution_count": 7,
      "outputs": []
    },
    {
      "cell_type": "code",
      "source": [
        "# Lets first create a dataset\n",
        "# Actor Network and Critic Network - Symptom and Disease\n",
        "\n",
        "class POCDS(Dataset):\n",
        "    def __init__(self, data_dict, tokenizer, Y_values, Y_embeddings):\n",
        "        self.data = data_dict\n",
        "\n",
        "        self.X = list(data_dict.values())\n",
        "        self.Y = list(data_dict.keys())\n",
        "        self.Y_values = Y_values\n",
        "        self.Y_embeddings = Y_embeddings\n",
        "\n",
        "        self.tokenizer = tokenizer\n",
        "\n",
        "    def __len__(self):\n",
        "        return len(self.X)\n",
        "\n",
        "    def __getitem__(self, idx):\n",
        "\n",
        "        x = self.X[idx]\n",
        "        y = self.Y[idx]\n",
        "\n",
        "        random.shuffle(x)\n",
        "\n",
        "        if len(x) >= self.tokenizer.max_len - 1:\n",
        "            x = x[:self.tokenizer.max_len - 1]\n",
        "\n",
        "        y_val = self.Y_values[y]\n",
        "        y_emb = self.Y_embeddings[y_val]\n",
        "\n",
        "        tokens, mask = self.tokenizer.tokenize(x)\n",
        "        return (tokens, mask), y_emb"
      ],
      "metadata": {
        "id": "kQzRRtbyed19"
      },
      "execution_count": 17,
      "outputs": []
    },
    {
      "cell_type": "code",
      "source": [
        "with open('/content/drive/MyDrive/hrd_hack/ds_test.pkl', 'rb') as f:\n",
        "    original_ds = pickle.load(f)\n",
        "\n",
        "disease_embs = torch.load('/content/drive/MyDrive/hrd_hack/disease_embs.pt')\n",
        "disease_embs = disease_embs.detach().cpu()\n",
        "\n",
        "with open('/content/drive/MyDrive/hrd_hack/disease_to_hpo_with_parents.json', 'r') as f:\n",
        "    data = json.load(f)\n",
        "\n",
        "new_data = {}\n",
        "keys = list(data.keys())\n",
        "for i in range(100):\n",
        "    new_data[keys[i]] = data[keys[i]]\n",
        "\n",
        "tokenizer = original_ds.tokenizer\n",
        "dataset = POCDS(new_data, tokenizer, original_ds.Y_values, disease_embs)\n",
        "\n",
        "dataloader = DataLoader(dataset, batch_size = 100, shuffle = True)\n",
        "x, y = next(iter(dataloader))\n",
        "\n",
        "x[0].shape, x[1].shape, y.shape"
      ],
      "metadata": {
        "colab": {
          "base_uri": "https://localhost:8080/"
        },
        "id": "sqSnjGk7xJZH",
        "outputId": "beb44482-c7cd-4f06-e9e5-f080952fb206"
      },
      "execution_count": 18,
      "outputs": [
        {
          "output_type": "stream",
          "name": "stderr",
          "text": [
            "<ipython-input-18-32139f6986e8>:4: FutureWarning: You are using `torch.load` with `weights_only=False` (the current default value), which uses the default pickle module implicitly. It is possible to construct malicious pickle data which will execute arbitrary code during unpickling (See https://github.com/pytorch/pytorch/blob/main/SECURITY.md#untrusted-models for more details). In a future release, the default value for `weights_only` will be flipped to `True`. This limits the functions that could be executed during unpickling. Arbitrary objects will no longer be allowed to be loaded via this mode unless they are explicitly allowlisted by the user via `torch.serialization.add_safe_globals`. We recommend you start setting `weights_only=True` for any use case where you don't have full control of the loaded file. Please open an issue on GitHub for any issues related to this experimental feature.\n",
            "  disease_embs = torch.load('/content/drive/MyDrive/hrd_hack/disease_embs.pt')\n"
          ]
        },
        {
          "output_type": "execute_result",
          "data": {
            "text/plain": [
              "(torch.Size([100, 256]), torch.Size([100, 256]), torch.Size([100, 512]))"
            ]
          },
          "metadata": {},
          "execution_count": 18
        }
      ]
    },
    {
      "cell_type": "code",
      "source": [
        "class POCActor(nn.Module):\n",
        "    def __init__(self, vocab_size, emb_dim = 512, n_classes = 12687, n_layers = 8, n_heads = 16):\n",
        "\n",
        "        super().__init__()\n",
        "\n",
        "        self.n_classes = n_classes\n",
        "        self.n_layers = n_layers\n",
        "        self.n_heads = n_heads\n",
        "\n",
        "        self.embedding = nn.Embedding(vocab_size, emb_dim)\n",
        "        self.norm = nn.LayerNorm(emb_dim)\n",
        "        self.transformers = nn.ModuleList([EncoderLayer(d_model = emb_dim, nhead = n_heads) for _ in range(n_layers)])\n",
        "\n",
        "        self.final_norm = nn.LayerNorm(emb_dim)\n",
        "\n",
        "        self.emb_transform_mean = nn.Sequential(\n",
        "            nn.Linear(emb_dim, 1024),\n",
        "            nn.GELU(approximate = 'tanh'),\n",
        "            nn.Linear(1024, 512)\n",
        "        )\n",
        "        self.emb_transform_log_std = nn.Sequential(\n",
        "            nn.Linear(emb_dim, 1024),\n",
        "            nn.GELU(approximate = 'tanh'),\n",
        "            nn.Linear(1024, 512)\n",
        "        )\n",
        "\n",
        "    def load_backbone(self, path = './drive/MyDrive/hrd_hack/model_checkpoint_epoch_99.pt'):\n",
        "        checkpoint = torch.load(path, map_location = 'cpu')['model_state_dict']\n",
        "        self_state_dict = self.state_dict()\n",
        "        for k, v in checkpoint.items():\n",
        "            if k in self_state_dict:\n",
        "                if v.shape == self_state_dict[k].shape:\n",
        "                    self_state_dict[k].copy_(v)\n",
        "\n",
        "    def adjust_log_std(self, log_std):\n",
        "        log_std_min, log_std_max = (-5, 2)  # From SpinUp / Denis Yarats\n",
        "        return log_std_min + 0.5 * (log_std_max - log_std_min) * (log_std + 1)\n",
        "\n",
        "    def forward(self, x, mask):\n",
        "        x = self.embedding(x) # (b, s, e)\n",
        "        x = self.norm(x) # (b, s, e)\n",
        "        mask = mask.bool()\n",
        "        for transformer in self.transformers:\n",
        "            x = transformer(x, mask)\n",
        "\n",
        "        x = x[:, 0, :].squeeze() # (b, s, e) -> (b, e)\n",
        "\n",
        "        x = self.final_norm(x).squeeze() # (b, e)\n",
        "\n",
        "        mean = self.emb_transform_mean(x) # (b, e) -> (b, e)\n",
        "\n",
        "        log_std = self.emb_transform_log_std(x) # (b, e) -> (b, e)\n",
        "        log_std = torch.tanh(log_std)\n",
        "        return mean, self.adjust_log_std(log_std)\n",
        "\n",
        "    def get_action(self, x, mask):\n",
        "        mean, log_std = self.forward(x, mask)\n",
        "        std = torch.exp(log_std)\n",
        "        normal = torch.distributions.Normal(mean, std)\n",
        "        x_t = normal.rsample()\n",
        "        log_prob = normal.log_prob(x_t)\n",
        "        return x_t, log_prob\n",
        "\n",
        "class POCCritic(nn.Module):\n",
        "    def __init__(self, vocab_size, emb_dim = 512, n_classes = 12687, n_layers = 8, n_heads = 16):\n",
        "\n",
        "        super().__init__()\n",
        "\n",
        "        self.n_classes = n_classes\n",
        "        self.n_layers = n_layers\n",
        "        self.n_heads = n_heads\n",
        "\n",
        "        self.embedding = nn.Embedding(vocab_size, emb_dim)\n",
        "        self.disease_transform = nn.Sequential(\n",
        "            nn.Linear(emb_dim, 1024),\n",
        "            nn.GELU(approximate = 'tanh'),\n",
        "            nn.Linear(1024, 512)\n",
        "        )\n",
        "\n",
        "        self.norm = nn.LayerNorm(emb_dim)\n",
        "        self.transformers = nn.ModuleList([EncoderLayer(d_model = emb_dim, nhead = n_heads) for _ in range(n_layers)])\n",
        "        self.final_norm = nn.LayerNorm(emb_dim)\n",
        "        self.q_value = nn.Sequential(\n",
        "            nn.Linear(emb_dim, 1024),\n",
        "            nn.GELU(approximate = 'tanh'),\n",
        "            nn.Linear(1024, 1)\n",
        "        )\n",
        "\n",
        "    def forward(self, x, mask, d_emb):\n",
        "        # breakpoint()\n",
        "\n",
        "        x = self.embedding(x) # (b, s, e)\n",
        "\n",
        "        d_emb = self.disease_transform(d_emb) # (b, e)\n",
        "        d_emb = d_emb.unsqueeze(1) # (b, s + 1, e)\n",
        "        d_emb_mask = torch.ones(x.shape[0], 1)\n",
        "\n",
        "        mask = torch.cat([mask, d_emb_mask], dim = -1)# (b, s+1, 1)\n",
        "        x = torch.cat([x, d_emb], dim = 1)\n",
        "\n",
        "        x = self.norm(x) # (b, s+1, e)\n",
        "        mask = mask.bool()\n",
        "        for transformer in self.transformers:\n",
        "            x = transformer(x, mask)\n",
        "\n",
        "        x = x[:, 0, :].squeeze() # (b, s, e) -> (b, e)\n",
        "        x = self.final_norm(x)\n",
        "        return self.q_value(x)"
      ],
      "metadata": {
        "id": "GHMCW87wygAW"
      },
      "execution_count": 19,
      "outputs": []
    },
    {
      "cell_type": "code",
      "source": [
        "actor = POCActor(len(tokenizer.key_value), n_layers = 6)\n",
        "critic = POCCritic(len(tokenizer.key_value), n_layers = 2)\n",
        "actor.load_backbone()"
      ],
      "metadata": {
        "colab": {
          "base_uri": "https://localhost:8080/"
        },
        "id": "65I5QP-qyf90",
        "outputId": "3d7c2923-4efa-40a1-b5e1-c89ee47e8494"
      },
      "execution_count": 12,
      "outputs": [
        {
          "output_type": "stream",
          "name": "stderr",
          "text": [
            "<ipython-input-11-99d97d0369fa>:28: FutureWarning: You are using `torch.load` with `weights_only=False` (the current default value), which uses the default pickle module implicitly. It is possible to construct malicious pickle data which will execute arbitrary code during unpickling (See https://github.com/pytorch/pytorch/blob/main/SECURITY.md#untrusted-models for more details). In a future release, the default value for `weights_only` will be flipped to `True`. This limits the functions that could be executed during unpickling. Arbitrary objects will no longer be allowed to be loaded via this mode unless they are explicitly allowlisted by the user via `torch.serialization.add_safe_globals`. We recommend you start setting `weights_only=True` for any use case where you don't have full control of the loaded file. Please open an issue on GitHub for any issues related to this experimental feature.\n",
            "  checkpoint = torch.load(path, map_location = 'cpu')['model_state_dict']\n"
          ]
        }
      ]
    },
    {
      "cell_type": "code",
      "source": [
        "# TODO\n",
        "\n",
        "class ReplayMemoryBuffer:\n",
        "\n",
        "    '''\n",
        "    stores T - current time step\n",
        "    State - Current X\n",
        "    All X - Remaining X\n",
        "    '''\n",
        "    def __init__(self, phenos: list[list], embs: torch.Tensor,  tokenizer: Tokenizer, max_t = 50):\n",
        "        import copy\n",
        "\n",
        "        self.X = copy.deepcopy(phenos)\n",
        "        self.Y = embs\n",
        "\n",
        "        self.state_x = None\n",
        "        self.max_t = max_t\n",
        "        self.tokenizer = tokenizer\n",
        "\n",
        "    def get_sample(self):\n",
        "\n",
        "        for phenotypes, present_state in zip(self.X, self.state_x):\n",
        "            if len(phenotypes) > 0:\n",
        "                random.shuffle(phenotypes)\n",
        "                present_state.append(phenotypes.pop(0))\n",
        "            else:\n",
        "                present_state.append('PAD_KEY')\n",
        "        breakpoint()\n",
        "        tokenized_state_x = []\n",
        "        tokenized_state_mask = []\n",
        "\n",
        "        for state in self.state_x:\n",
        "            state_tokenized, state_mask = self.tokenizer.tokenize(state)\n",
        "            tokenized_state_x.append(state_tokenized)\n",
        "            tokenized_state_mask.append(state_mask)\n",
        "\n",
        "        tokenized_state_x = torch.stack(tokenized_state_x)\n",
        "        tokenized_state_mask = torch.stack(tokenized_state_mask)\n",
        "        return (self.t, tokenized_state_x, tokenized_state_mask), y\n",
        "\n",
        "    def get_next(self):\n",
        "\n",
        "        if hasattr(self, 't') and self.t > 0:\n",
        "            self.t += 1\n",
        "        else:\n",
        "            self.t = 0\n",
        "            self.state_x = [[] for _ in range(len(self.X))]\n",
        "\n",
        "        eps_done = self.t > self.max_t\n",
        "        (current_t, tokenized_state_x, tokenized_state_mask), y = self.get_sample()\n",
        "        return eps_done, (current_t, tokenized_state_x, tokenized_state_mask), y\n",
        "\n"
      ],
      "metadata": {
        "id": "54Nh5mPHT_bA"
      },
      "execution_count": 93,
      "outputs": []
    },
    {
      "cell_type": "code",
      "source": [
        "y_values = original_ds.Y_values\n",
        "diseases = list(new_data.keys())\n",
        "disease_ids = [y_values[disease] for disease in diseases]\n",
        "poc_disease_embs = disease_embs[disease_ids]"
      ],
      "metadata": {
        "id": "pFx0x11ZDgJ8"
      },
      "execution_count": 98,
      "outputs": []
    },
    {
      "cell_type": "code",
      "source": [
        "with open('/content/drive/MyDrive/hrd_hack/disease_to_hpo_with_parents.json', 'r') as f:\n",
        "    data = json.load(f)\n",
        "\n",
        "new_data = {}\n",
        "keys = list(data.keys())\n",
        "for i in range(100):\n",
        "    new_data[keys[i]] = data[keys[i]]\n",
        "\n",
        "poc_phenotypes = list(new_data.values())"
      ],
      "metadata": {
        "id": "hFn96buIT_Y_"
      },
      "execution_count": 94,
      "outputs": []
    },
    {
      "cell_type": "code",
      "source": [
        "tokenizer = original_ds.tokenizer\n",
        "replay_buffer = ReplayMemoryBuffer(poc_phenotypes, poc_disease_embs, tokenizer)"
      ],
      "metadata": {
        "id": "JYslSYxNE0Lh"
      },
      "execution_count": 95,
      "outputs": []
    },
    {
      "cell_type": "code",
      "source": [
        "eps_done, (current_t, tokenized_state_x, tokenized_state_mask), y = replay_buffer.get_next()"
      ],
      "metadata": {
        "colab": {
          "base_uri": "https://localhost:8080/"
        },
        "id": "BaaM2hW0FQkY",
        "outputId": "7261460f-62f3-41c0-c51f-3d1affabfe82"
      },
      "execution_count": 96,
      "outputs": [
        {
          "name": "stdout",
          "output_type": "stream",
          "text": [
            "> \u001b[0;32m<ipython-input-93-3741c8c2dcb0>\u001b[0m(29)\u001b[0;36mget_sample\u001b[0;34m()\u001b[0m\n",
            "\u001b[0;32m     27 \u001b[0;31m                \u001b[0mpresent_state\u001b[0m\u001b[0;34m.\u001b[0m\u001b[0mappend\u001b[0m\u001b[0;34m(\u001b[0m\u001b[0;34m'PAD_KEY'\u001b[0m\u001b[0;34m)\u001b[0m\u001b[0;34m\u001b[0m\u001b[0;34m\u001b[0m\u001b[0m\n",
            "\u001b[0m\u001b[0;32m     28 \u001b[0;31m        \u001b[0mbreakpoint\u001b[0m\u001b[0;34m(\u001b[0m\u001b[0;34m)\u001b[0m\u001b[0;34m\u001b[0m\u001b[0;34m\u001b[0m\u001b[0m\n",
            "\u001b[0m\u001b[0;32m---> 29 \u001b[0;31m        \u001b[0mtokenized_state_x\u001b[0m \u001b[0;34m=\u001b[0m \u001b[0;34m[\u001b[0m\u001b[0;34m]\u001b[0m\u001b[0;34m\u001b[0m\u001b[0;34m\u001b[0m\u001b[0m\n",
            "\u001b[0m\u001b[0;32m     30 \u001b[0;31m        \u001b[0mtokenized_state_mask\u001b[0m \u001b[0;34m=\u001b[0m \u001b[0;34m[\u001b[0m\u001b[0;34m]\u001b[0m\u001b[0;34m\u001b[0m\u001b[0;34m\u001b[0m\u001b[0m\n",
            "\u001b[0m\u001b[0;32m     31 \u001b[0;31m\u001b[0;34m\u001b[0m\u001b[0m\n",
            "\u001b[0m\n",
            "ipdb> self.state_X\n",
            "*** AttributeError: 'ReplayMemoryBuffer' object has no attribute 'state_X'\n",
            "ipdb> self.state_x\n",
            "[['HP:0020219'], ['HP:0000707'], ['HP:0002795'], ['HP:0000664'], ['HP:0001995'], ['HP:0005110'], ['HP:0000001'], ['HP:0005607'], ['HP:0001892'], ['HP:0011443'], ['HP:0001714'], ['HP:4000074'], ['HP:0011446'], ['HP:0040070'], ['HP:0012880'], ['HP:0200127'], ['HP:0030084'], ['HP:0025031'], ['HP:0030012'], ['HP:0000366'], ['HP:0000523'], ['HP:0410042'], ['HP:0000001'], ['HP:0001510'], ['HP:0410042'], ['HP:0000007'], ['HP:0004377'], ['HP:0004328'], ['HP:0031797'], ['HP:0031704'], ['HP:0000504'], ['HP:0011675'], ['HP:0000924'], ['HP:0009830'], ['HP:0003674'], ['HP:0002014'], ['HP:0100834'], ['HP:0000805'], ['HP:0002715'], ['HP:0002321'], ['HP:0000609'], ['HP:0004329'], ['HP:0003674'], ['HP:0000505'], ['HP:0034345'], ['HP:0012638'], ['HP:0011463'], ['HP:0033353'], ['HP:0001263'], ['HP:0004372'], ['HP:0000365'], ['HP:0000599'], ['HP:0012823'], ['HP:0000006'], ['HP:0002980'], ['HP:0011458'], ['HP:0000006'], ['HP:0001249'], ['HP:0100022'], ['HP:0000011'], ['HP:0200065'], ['HP:0007642'], ['HP:0045045'], ['HP:0000301'], ['HP:0000546'], ['HP:0010978'], ['HP:0000551'], ['HP:0000365'], ['HP:0003073'], ['HP:0031654'], ['HP:0005288'], ['HP:0000005'], ['HP:0010461'], ['HP:0034345'], ['HP:0010668'], ['HP:0000079'], ['HP:0000848'], ['HP:0011282'], ['HP:0006695'], ['HP:0000007'], ['HP:0100777'], ['HP:0025066'], ['HP:0011124'], ['HP:0003011'], ['HP:0005943'], ['HP:0032309'], ['HP:0040131'], ['HP:0000032'], ['HP:0000001'], ['HP:0032076'], ['HP:0001574'], ['HP:0000811'], ['HP:0011492'], ['HP:0001098'], ['HP:0000598'], ['HP:0030680'], ['HP:0031816'], ['HP:0000327'], ['HP:0007370'], ['HP:0025031']]\n",
            "ipdb> c\n"
          ]
        }
      ]
    },
    {
      "cell_type": "code",
      "source": [
        "tokenized_state_x.shape, tokenized_state_mask.shape"
      ],
      "metadata": {
        "colab": {
          "base_uri": "https://localhost:8080/"
        },
        "id": "O-n3ZmvCFUGw",
        "outputId": "552550f9-fa5c-47d5-ded5-03bc0d102cfd"
      },
      "execution_count": 86,
      "outputs": [
        {
          "output_type": "execute_result",
          "data": {
            "text/plain": [
              "(torch.Size([100, 256]), torch.Size([100, 256]))"
            ]
          },
          "metadata": {},
          "execution_count": 86
        }
      ]
    },
    {
      "cell_type": "code",
      "source": [
        "eps_done, (current_t, tokenized_state_x, tokenized_state_mask), y = replay_buffer.get_next()\n",
        "eps_done, (current_t, tokenized_state_x, tokenized_state_mask), y = replay_buffer.get_next()"
      ],
      "metadata": {
        "colab": {
          "base_uri": "https://localhost:8080/"
        },
        "id": "jttBgR8KFbVq",
        "outputId": "1897ffca-ac5e-41f7-ac38-116f77987aa3"
      },
      "execution_count": 97,
      "outputs": [
        {
          "name": "stdout",
          "output_type": "stream",
          "text": [
            "> \u001b[0;32m<ipython-input-93-3741c8c2dcb0>\u001b[0m(29)\u001b[0;36mget_sample\u001b[0;34m()\u001b[0m\n",
            "\u001b[0;32m     27 \u001b[0;31m                \u001b[0mpresent_state\u001b[0m\u001b[0;34m.\u001b[0m\u001b[0mappend\u001b[0m\u001b[0;34m(\u001b[0m\u001b[0;34m'PAD_KEY'\u001b[0m\u001b[0;34m)\u001b[0m\u001b[0;34m\u001b[0m\u001b[0;34m\u001b[0m\u001b[0m\n",
            "\u001b[0m\u001b[0;32m     28 \u001b[0;31m        \u001b[0mbreakpoint\u001b[0m\u001b[0;34m(\u001b[0m\u001b[0;34m)\u001b[0m\u001b[0;34m\u001b[0m\u001b[0;34m\u001b[0m\u001b[0m\n",
            "\u001b[0m\u001b[0;32m---> 29 \u001b[0;31m        \u001b[0mtokenized_state_x\u001b[0m \u001b[0;34m=\u001b[0m \u001b[0;34m[\u001b[0m\u001b[0;34m]\u001b[0m\u001b[0;34m\u001b[0m\u001b[0;34m\u001b[0m\u001b[0m\n",
            "\u001b[0m\u001b[0;32m     30 \u001b[0;31m        \u001b[0mtokenized_state_mask\u001b[0m \u001b[0;34m=\u001b[0m \u001b[0;34m[\u001b[0m\u001b[0;34m]\u001b[0m\u001b[0;34m\u001b[0m\u001b[0;34m\u001b[0m\u001b[0m\n",
            "\u001b[0m\u001b[0;32m     31 \u001b[0;31m\u001b[0;34m\u001b[0m\u001b[0m\n",
            "\u001b[0m\n",
            "ipdb> self.state_x\n",
            "[['HP:0000001'], ['HP:0001878'], ['HP:0010978'], ['HP:0000309'], ['HP:0001944'], ['HP:0001626'], ['HP:0001939'], ['HP:0002783'], ['HP:0000005'], ['HP:0031826'], ['HP:0003596'], ['HP:5200044'], ['HP:0100538'], ['HP:0030084'], ['HP:0000055'], ['HP:0000001'], ['HP:0009774'], ['HP:0100834'], ['HP:0000202'], ['HP:0006493'], ['HP:0031797'], ['HP:0001438'], ['HP:0000163'], ['HP:0002977'], ['HP:0040134'], ['HP:0000504'], ['HP:0002665'], ['HP:0000005'], ['HP:0000613'], ['HP:0000365'], ['HP:0002423'], ['HP:0012251'], ['HP:0031797'], ['HP:0001939'], ['HP:0002270'], ['HP:0002037'], ['HP:0001909'], ['HP:0012591'], ['HP:0001252'], ['HP:0001751'], ['HP:0100543'], ['HP:0001612'], ['HP:0011025'], ['HP:0000662'], ['HP:0025031'], ['HP:0001321'], ['HP:0011446'], ['HP:0001249'], ['HP:0000929'], ['HP:0100547'], ['HP:0000407'], ['HP:0000153'], ['HP:0000518'], ['HP:0011729'], ['HP:0000001'], ['HP:0002027'], ['HP:0000499'], ['HP:0000811'], ['HP:0010936'], ['HP:0025668'], ['HP:0004323'], ['HP:0000504'], ['HP:0100886'], ['HP:0000508'], ['HP:0012372'], ['HP:0002383'], ['HP:0004329'], ['HP:0033127'], ['HP:0003774'], ['HP:0430000'], ['HP:0001028'], ['HP:0006530'], ['HP:0011844'], ['HP:0001871'], ['HP:0000152'], ['HP:0011842'], ['HP:0040084'], ['HP:0009115'], ['HP:0003577'], ['HP:0000119'], ['HP:0002664'], ['HP:0032180'], ['HP:0040189'], ['HP:0012575'], ['HP:0005280'], ['HP:0012823'], ['HP:0040129'], ['HP:0000954'], ['HP:0000598'], ['HP:0004329'], ['HP:0010765'], ['HP:0000078'], ['HP:0031816'], ['HP:0000001'], ['HP:0003652'], ['HP:0005922'], ['HP:0011843'], ['HP:0000235'], ['HP:0031797'], ['HP:0034345']]\n",
            "ipdb> exit\n"
          ]
        }
      ]
    },
    {
      "cell_type": "code",
      "source": [
        "tokenized_state_x[0], tokenized_state_mask[0]"
      ],
      "metadata": {
        "colab": {
          "base_uri": "https://localhost:8080/"
        },
        "id": "SH2M-Z1cForT",
        "outputId": "59f39382-f397-40e6-a7b5-880016b09a61"
      },
      "execution_count": 89,
      "outputs": [
        {
          "output_type": "execute_result",
          "data": {
            "text/plain": [
              "(tensor([   0, 4615,    1,    1,    1,    1,    1,    1,    1,    1,    1,    1,\n",
              "            1,    1,    1,    1,    1,    1,    1,    1,    1,    1,    1,    1,\n",
              "            1,    1,    1,    1,    1,    1,    1,    1,    1,    1,    1,    1,\n",
              "            1,    1,    1,    1,    1,    1,    1,    1,    1,    1,    1,    1,\n",
              "            1,    1,    1,    1,    1,    1,    1,    1,    1,    1,    1,    1,\n",
              "            1,    1,    1,    1,    1,    1,    1,    1,    1,    1,    1,    1,\n",
              "            1,    1,    1,    1,    1,    1,    1,    1,    1,    1,    1,    1,\n",
              "            1,    1,    1,    1,    1,    1,    1,    1,    1,    1,    1,    1,\n",
              "            1,    1,    1,    1,    1,    1,    1,    1,    1,    1,    1,    1,\n",
              "            1,    1,    1,    1,    1,    1,    1,    1,    1,    1,    1,    1,\n",
              "            1,    1,    1,    1,    1,    1,    1,    1,    1,    1,    1,    1,\n",
              "            1,    1,    1,    1,    1,    1,    1,    1,    1,    1,    1,    1,\n",
              "            1,    1,    1,    1,    1,    1,    1,    1,    1,    1,    1,    1,\n",
              "            1,    1,    1,    1,    1,    1,    1,    1,    1,    1,    1,    1,\n",
              "            1,    1,    1,    1,    1,    1,    1,    1,    1,    1,    1,    1,\n",
              "            1,    1,    1,    1,    1,    1,    1,    1,    1,    1,    1,    1,\n",
              "            1,    1,    1,    1,    1,    1,    1,    1,    1,    1,    1,    1,\n",
              "            1,    1,    1,    1,    1,    1,    1,    1,    1,    1,    1,    1,\n",
              "            1,    1,    1,    1,    1,    1,    1,    1,    1,    1,    1,    1,\n",
              "            1,    1,    1,    1,    1,    1,    1,    1,    1,    1,    1,    1,\n",
              "            1,    1,    1,    1,    1,    1,    1,    1,    1,    1,    1,    1,\n",
              "            1,    1,    1,    1]),\n",
              " tensor([1, 1, 0, 0, 0, 0, 0, 0, 0, 0, 0, 0, 0, 0, 0, 0, 0, 0, 0, 0, 0, 0, 0, 0,\n",
              "         0, 0, 0, 0, 0, 0, 0, 0, 0, 0, 0, 0, 0, 0, 0, 0, 0, 0, 0, 0, 0, 0, 0, 0,\n",
              "         0, 0, 0, 0, 0, 0, 0, 0, 0, 0, 0, 0, 0, 0, 0, 0, 0, 0, 0, 0, 0, 0, 0, 0,\n",
              "         0, 0, 0, 0, 0, 0, 0, 0, 0, 0, 0, 0, 0, 0, 0, 0, 0, 0, 0, 0, 0, 0, 0, 0,\n",
              "         0, 0, 0, 0, 0, 0, 0, 0, 0, 0, 0, 0, 0, 0, 0, 0, 0, 0, 0, 0, 0, 0, 0, 0,\n",
              "         0, 0, 0, 0, 0, 0, 0, 0, 0, 0, 0, 0, 0, 0, 0, 0, 0, 0, 0, 0, 0, 0, 0, 0,\n",
              "         0, 0, 0, 0, 0, 0, 0, 0, 0, 0, 0, 0, 0, 0, 0, 0, 0, 0, 0, 0, 0, 0, 0, 0,\n",
              "         0, 0, 0, 0, 0, 0, 0, 0, 0, 0, 0, 0, 0, 0, 0, 0, 0, 0, 0, 0, 0, 0, 0, 0,\n",
              "         0, 0, 0, 0, 0, 0, 0, 0, 0, 0, 0, 0, 0, 0, 0, 0, 0, 0, 0, 0, 0, 0, 0, 0,\n",
              "         0, 0, 0, 0, 0, 0, 0, 0, 0, 0, 0, 0, 0, 0, 0, 0, 0, 0, 0, 0, 0, 0, 0, 0,\n",
              "         0, 0, 0, 0, 0, 0, 0, 0, 0, 0, 0, 0, 0, 0, 0, 0]))"
            ]
          },
          "metadata": {},
          "execution_count": 89
        }
      ]
    },
    {
      "cell_type": "code",
      "source": [
        "class Agent:\n",
        "    '''\n",
        "    Twin Critic\n",
        "    Actor\n",
        "\n",
        "    Optimization step\n",
        "    '''"
      ],
      "metadata": {
        "id": "ehRG6weQT_Tz"
      },
      "execution_count": null,
      "outputs": []
    },
    {
      "cell_type": "code",
      "source": [
        "x = [[], []]\n",
        "for i in x:\n",
        "    i.append(1)\n",
        "for i in x:\n",
        "    i.append(1)\n",
        "\n",
        "x"
      ],
      "metadata": {
        "colab": {
          "base_uri": "https://localhost:8080/"
        },
        "id": "vaS4n17wT_Kc",
        "outputId": "f9080f11-c98f-4ad8-b035-972beda6d76d"
      },
      "execution_count": 100,
      "outputs": [
        {
          "output_type": "execute_result",
          "data": {
            "text/plain": [
              "[[1, 1], [1, 1]]"
            ]
          },
          "metadata": {},
          "execution_count": 100
        }
      ]
    },
    {
      "cell_type": "markdown",
      "source": [
        "# Scope it out to the entire dataset"
      ],
      "metadata": {
        "id": "LwZ3qVbR-vQW"
      }
    }
  ]
}